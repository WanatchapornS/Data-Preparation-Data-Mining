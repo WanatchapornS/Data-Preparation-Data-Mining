{
  "cells": [
    {
      "cell_type": "markdown",
      "metadata": {
        "id": "view-in-github",
        "colab_type": "text"
      },
      "source": [
        "<a href=\"https://colab.research.google.com/github/WanatchapornS/Data-Preparation-Data-Mining/blob/main/Data103_(chapter2_distance).ipynb\" target=\"_parent\"><img src=\"https://colab.research.google.com/assets/colab-badge.svg\" alt=\"Open In Colab\"/></a>"
      ]
    },
    {
      "cell_type": "markdown",
      "metadata": {
        "id": "el5od9MXKtUo"
      },
      "source": [
        "Source: https://github.com/tohnperfect/DPDM2021"
      ]
    },
    {
      "cell_type": "code",
      "execution_count": null,
      "metadata": {
        "id": "8HEQJK7E2Rvm"
      },
      "outputs": [],
      "source": [
        "import numpy as np # package สำหรับทำงานกับ ข้อมูลที่เป็นตัวเลข (ในรูปแบบ matrix)"
      ]
    },
    {
      "cell_type": "markdown",
      "metadata": {
        "id": "FOP8mCMS2_qZ"
      },
      "source": [
        "# Numpy Array"
      ]
    },
    {
      "cell_type": "markdown",
      "metadata": {
        "id": "hw5vBxtp3DUv"
      },
      "source": [
        "## Create numpy array"
      ]
    },
    {
      "cell_type": "code",
      "execution_count": null,
      "metadata": {
        "colab": {
          "base_uri": "https://localhost:8080/"
        },
        "id": "vnNMkCbN2yQM",
        "outputId": "77dcd5a2-f4b7-4811-cbab-cd130bea35c7"
      },
      "outputs": [
        {
          "data": {
            "text/plain": [
              "array([[1, 2, 3],\n",
              "       [4, 5, 6]])"
            ]
          },
          "execution_count": 47,
          "metadata": {},
          "output_type": "execute_result"
        }
      ],
      "source": [
        "np_a = np.array([[1,2,3],[4,5,6]])\n",
        "np_a"
      ]
    },
    {
      "cell_type": "code",
      "execution_count": null,
      "metadata": {
        "colab": {
          "base_uri": "https://localhost:8080/"
        },
        "id": "LalMSYUB3aTz",
        "outputId": "bd84b08a-114e-42ae-d495-9df8ce4a8491"
      },
      "outputs": [
        {
          "data": {
            "text/plain": [
              "(2, 3)"
            ]
          },
          "execution_count": 48,
          "metadata": {},
          "output_type": "execute_result"
        }
      ],
      "source": [
        "np_a.shape"
      ]
    },
    {
      "cell_type": "code",
      "execution_count": null,
      "metadata": {
        "colab": {
          "base_uri": "https://localhost:8080/"
        },
        "id": "_n5Dn5R73gBF",
        "outputId": "144e6496-bc65-421b-cb78-7ae641240159"
      },
      "outputs": [
        {
          "name": "stdout",
          "output_type": "stream",
          "text": [
            "(3, 2)\n"
          ]
        },
        {
          "data": {
            "text/plain": [
              "array([[1, 4],\n",
              "       [2, 5],\n",
              "       [3, 6]])"
            ]
          },
          "execution_count": 49,
          "metadata": {},
          "output_type": "execute_result"
        }
      ],
      "source": [
        "np_b = np.array([[1,4],[2,5],[3,6]])\n",
        "print(np_b.shape)\n",
        "np_b"
      ]
    },
    {
      "cell_type": "markdown",
      "metadata": {
        "id": "dD-bfKwd9MPr"
      },
      "source": [
        "## คำสั่งสร้าง matrix เริ่มต้น zeros, ones\n"
      ]
    },
    {
      "cell_type": "code",
      "execution_count": null,
      "metadata": {
        "colab": {
          "base_uri": "https://localhost:8080/"
        },
        "id": "clsQ-Yx386JV",
        "outputId": "84429443-72ab-4658-9e26-c6cdf9d84d8f"
      },
      "outputs": [
        {
          "data": {
            "text/plain": [
              "array([[0., 0.],\n",
              "       [0., 0.],\n",
              "       [0., 0.]])"
            ]
          },
          "execution_count": 50,
          "metadata": {},
          "output_type": "execute_result"
        }
      ],
      "source": [
        "np.zeros((3,2))"
      ]
    },
    {
      "cell_type": "markdown",
      "metadata": {
        "id": "yWoZK623EOn4"
      },
      "source": [
        "## คำสั่งสร้าง matrix เริ่มต้น ด้วย random"
      ]
    },
    {
      "cell_type": "code",
      "execution_count": null,
      "metadata": {
        "colab": {
          "base_uri": "https://localhost:8080/"
        },
        "id": "TzAJAY4lEUoP",
        "outputId": "359f1a83-718c-4134-9ff0-b9f1e700fa55"
      },
      "outputs": [
        {
          "data": {
            "text/plain": [
              "array([[-0.10463824,  0.52407256],\n",
              "       [-0.70422714,  0.19651243],\n",
              "       [-0.75487772, -1.29658433]])"
            ]
          },
          "execution_count": 51,
          "metadata": {},
          "output_type": "execute_result"
        }
      ],
      "source": [
        "np.random.randn(3,2)"
      ]
    },
    {
      "cell_type": "code",
      "execution_count": null,
      "metadata": {
        "colab": {
          "base_uri": "https://localhost:8080/"
        },
        "id": "0Q-Q7TfTE3Wm",
        "outputId": "034ba78d-c41f-4277-8648-4ecaaa97dd2a"
      },
      "outputs": [
        {
          "data": {
            "text/plain": [
              "array([[7, 1],\n",
              "       [5, 8],\n",
              "       [8, 7]])"
            ]
          },
          "execution_count": 54,
          "metadata": {},
          "output_type": "execute_result"
        }
      ],
      "source": [
        "np.random.randint(0,10,(3,2))"
      ]
    },
    {
      "cell_type": "markdown",
      "metadata": {
        "id": "EHUBx6XSC4jk"
      },
      "source": [
        "## Indexing"
      ]
    },
    {
      "cell_type": "code",
      "execution_count": null,
      "metadata": {
        "colab": {
          "base_uri": "https://localhost:8080/"
        },
        "id": "SpB43iXmC9HL",
        "outputId": "38eee8ee-8340-496d-f123-c7184fba75df"
      },
      "outputs": [
        {
          "data": {
            "text/plain": [
              "4"
            ]
          },
          "execution_count": 55,
          "metadata": {},
          "output_type": "execute_result"
        }
      ],
      "source": [
        "np_b[0,1] # การชี้สมาชิกใน numpy matrix ใช้ ชื่อmatrix[แถว,หลัก]"
      ]
    },
    {
      "cell_type": "markdown",
      "metadata": {
        "id": "CUIQZdYP4avK"
      },
      "source": [
        "### Transpose matrix"
      ]
    },
    {
      "cell_type": "code",
      "execution_count": null,
      "metadata": {
        "colab": {
          "base_uri": "https://localhost:8080/"
        },
        "id": "UJ3Sbt2d388T",
        "outputId": "620ab362-67e2-4c59-b8eb-b6a4744e1747"
      },
      "outputs": [
        {
          "data": {
            "text/plain": [
              "array([[1, 4],\n",
              "       [2, 5],\n",
              "       [3, 6]])"
            ]
          },
          "execution_count": 56,
          "metadata": {},
          "output_type": "execute_result"
        }
      ],
      "source": [
        "np_a.T"
      ]
    },
    {
      "cell_type": "markdown",
      "metadata": {
        "id": "7jLvfycGFnmT"
      },
      "source": [
        "### matrix multiplication"
      ]
    },
    {
      "cell_type": "code",
      "execution_count": null,
      "metadata": {
        "colab": {
          "base_uri": "https://localhost:8080/"
        },
        "id": "p2oHKxMkFsbl",
        "outputId": "c502da15-0787-4ff7-cf3d-75a85cecf5c2"
      },
      "outputs": [
        {
          "data": {
            "text/plain": [
              "array([[17, 22, 27],\n",
              "       [22, 29, 36],\n",
              "       [27, 36, 45]])"
            ]
          },
          "execution_count": 57,
          "metadata": {},
          "output_type": "execute_result"
        }
      ],
      "source": [
        "np.dot(np_b,np_a)"
      ]
    },
    {
      "cell_type": "code",
      "execution_count": null,
      "metadata": {
        "colab": {
          "base_uri": "https://localhost:8080/"
        },
        "id": "9gSgMU3eF7kv",
        "outputId": "2159c4c9-6e51-4f7f-aba4-657b1e3e70e0"
      },
      "outputs": [
        {
          "data": {
            "text/plain": [
              "array([[14, 32],\n",
              "       [32, 77]])"
            ]
          },
          "execution_count": 58,
          "metadata": {},
          "output_type": "execute_result"
        }
      ],
      "source": [
        "np.dot(np_a,np_b)"
      ]
    },
    {
      "cell_type": "markdown",
      "metadata": {
        "id": "8iItZ7TJ4hmX"
      },
      "source": [
        "## Useful numpy functions\n",
        "### summation $\\sum$"
      ]
    },
    {
      "cell_type": "code",
      "execution_count": null,
      "metadata": {
        "colab": {
          "base_uri": "https://localhost:8080/"
        },
        "id": "zbM_l9zr4Yz7",
        "outputId": "ecf22b54-43c7-4705-a9b5-7b8ab254874e"
      },
      "outputs": [
        {
          "data": {
            "text/plain": [
              "array([[1, 2, 3],\n",
              "       [4, 5, 6]])"
            ]
          },
          "execution_count": 59,
          "metadata": {},
          "output_type": "execute_result"
        }
      ],
      "source": [
        "np_a"
      ]
    },
    {
      "cell_type": "code",
      "execution_count": null,
      "metadata": {
        "colab": {
          "base_uri": "https://localhost:8080/"
        },
        "id": "Cr9tIGeR49z2",
        "outputId": "926586fc-72c4-4681-d0b5-7d4078f4096c"
      },
      "outputs": [
        {
          "data": {
            "text/plain": [
              "21"
            ]
          },
          "execution_count": 60,
          "metadata": {},
          "output_type": "execute_result"
        }
      ],
      "source": [
        "np.sum(np_a)"
      ]
    },
    {
      "cell_type": "code",
      "execution_count": null,
      "metadata": {
        "colab": {
          "base_uri": "https://localhost:8080/"
        },
        "id": "-hRRJRpa5FLG",
        "outputId": "66e32f40-fd0f-4765-bc2e-5786e66212de"
      },
      "outputs": [
        {
          "data": {
            "text/plain": [
              "array([5, 7, 9])"
            ]
          },
          "execution_count": 61,
          "metadata": {},
          "output_type": "execute_result"
        }
      ],
      "source": [
        "np.sum(np_a,axis=0)"
      ]
    },
    {
      "cell_type": "code",
      "execution_count": null,
      "metadata": {
        "colab": {
          "base_uri": "https://localhost:8080/"
        },
        "id": "n0UoY6J75WVg",
        "outputId": "303f34f6-e19b-46da-c01f-1e03bfb76f83"
      },
      "outputs": [
        {
          "data": {
            "text/plain": [
              "array([ 6, 15])"
            ]
          },
          "execution_count": 62,
          "metadata": {},
          "output_type": "execute_result"
        }
      ],
      "source": [
        "np.sum(np_a,axis=1)"
      ]
    },
    {
      "cell_type": "markdown",
      "metadata": {
        "id": "JAXjWW3e7Cql"
      },
      "source": [
        "### วนลูปเอง"
      ]
    },
    {
      "cell_type": "code",
      "execution_count": null,
      "metadata": {
        "colab": {
          "base_uri": "https://localhost:8080/"
        },
        "id": "tSH_bYFx7Ufc",
        "outputId": "0f96f090-4e15-4438-9b1c-e5f9a3cf1d91"
      },
      "outputs": [
        {
          "data": {
            "text/plain": [
              "(2, 3)"
            ]
          },
          "execution_count": 63,
          "metadata": {},
          "output_type": "execute_result"
        }
      ],
      "source": [
        "np_a.shape"
      ]
    },
    {
      "cell_type": "code",
      "execution_count": null,
      "metadata": {
        "colab": {
          "base_uri": "https://localhost:8080/"
        },
        "id": "0sw2NhZg7YZc",
        "outputId": "111ae0b0-7c4c-47df-f2b8-96909f1940c2"
      },
      "outputs": [
        {
          "data": {
            "text/plain": [
              "2"
            ]
          },
          "execution_count": 64,
          "metadata": {},
          "output_type": "execute_result"
        }
      ],
      "source": [
        "np_a.shape[0]"
      ]
    },
    {
      "cell_type": "markdown",
      "metadata": {
        "id": "fN2wwKZ_8XkV"
      },
      "source": [
        "```np.sum(np_a)```"
      ]
    },
    {
      "cell_type": "code",
      "execution_count": null,
      "metadata": {
        "colab": {
          "base_uri": "https://localhost:8080/"
        },
        "id": "U4i_Fd3f7JC4",
        "outputId": "95d6c9cf-77c4-44c7-d8fa-4d6f52f59272"
      },
      "outputs": [
        {
          "data": {
            "text/plain": [
              "21"
            ]
          },
          "execution_count": 65,
          "metadata": {},
          "output_type": "execute_result"
        }
      ],
      "source": [
        "sum_all = 0\n",
        "for row in range(np_a.shape[0]):\n",
        "    for col in range(np_a.shape[1]):\n",
        "        sum_all = sum_all + np_a[row,col]  # การชี้สมาชิกใน numpy matrix ใช้ matrix[แถว,หลัก]\n",
        "\n",
        "sum_all"
      ]
    },
    {
      "cell_type": "markdown",
      "metadata": {
        "id": "PGRfeuxq8ljg"
      },
      "source": [
        "```np.sum(np_a,axis=0)```"
      ]
    },
    {
      "cell_type": "code",
      "execution_count": null,
      "metadata": {
        "colab": {
          "base_uri": "https://localhost:8080/"
        },
        "id": "1YgXr_jL8k6S",
        "outputId": "9b8abf6a-4ae0-4510-ac2e-b1a11a913412"
      },
      "outputs": [
        {
          "data": {
            "text/plain": [
              "array([5., 7., 9.])"
            ]
          },
          "execution_count": 66,
          "metadata": {},
          "output_type": "execute_result"
        }
      ],
      "source": [
        "sum_vert = np.zeros((np_a.shape[1]))\n",
        "for col in range(np_a.shape[1]):\n",
        "    for row in range(np_a.shape[0]):\n",
        "        sum_vert[col] = sum_vert[col] +  np_a[row,col]\n",
        "\n",
        "sum_vert"
      ]
    },
    {
      "cell_type": "markdown",
      "metadata": {
        "id": "MYgc_PYw_a_g"
      },
      "source": [
        "```np.sum(np_a,axis=1)```"
      ]
    },
    {
      "cell_type": "code",
      "execution_count": null,
      "metadata": {
        "colab": {
          "base_uri": "https://localhost:8080/"
        },
        "id": "su1ONVQm7I8B",
        "outputId": "dc8c3b78-f32f-49d8-fa7c-980fa4f40222"
      },
      "outputs": [
        {
          "data": {
            "text/plain": [
              "array([ 6., 15.])"
            ]
          },
          "execution_count": 67,
          "metadata": {},
          "output_type": "execute_result"
        }
      ],
      "source": [
        "sum_hor = np.zeros((np_a.shape[0]))\n",
        "for row in range(np_a.shape[0]):\n",
        "    for col in range(np_a.shape[1]):\n",
        "        sum_hor[row] = sum_hor[row] +  np_a[row,col]\n",
        "\n",
        "sum_hor"
      ]
    },
    {
      "cell_type": "code",
      "execution_count": null,
      "metadata": {
        "colab": {
          "base_uri": "https://localhost:8080/"
        },
        "id": "tMcqOVsw7IhM",
        "outputId": "60fc85bd-45a2-4e99-c96b-47a5cf76601b"
      },
      "outputs": [
        {
          "data": {
            "text/plain": [
              "array([ 6., 15.])"
            ]
          },
          "execution_count": 68,
          "metadata": {},
          "output_type": "execute_result"
        }
      ],
      "source": [
        "sum_hor = np.zeros((np_a.shape[0]))\n",
        "for col in range(np_a.shape[1]):\n",
        "    for row in range(np_a.shape[0]):\n",
        "        sum_hor[row] = sum_hor[row] +  np_a[row,col]\n",
        "\n",
        "sum_hor"
      ]
    },
    {
      "cell_type": "code",
      "execution_count": null,
      "metadata": {
        "colab": {
          "base_uri": "https://localhost:8080/"
        },
        "id": "kS4y9rjwB6rb",
        "outputId": "54741ee4-45a1-411b-9694-bcfeefb64585"
      },
      "outputs": [
        {
          "data": {
            "text/plain": [
              "array([ 6., 15.])"
            ]
          },
          "execution_count": 69,
          "metadata": {},
          "output_type": "execute_result"
        }
      ],
      "source": [
        "n_rows,n_cols = np_a.shape\n",
        "\n",
        "sum_hor = np.zeros((n_rows))\n",
        "for col in range(n_cols):\n",
        "    for row in range(n_rows):\n",
        "        sum_hor[row] = sum_hor[row] +  np_a[row,col]\n",
        "\n",
        "sum_hor"
      ]
    },
    {
      "cell_type": "markdown",
      "metadata": {
        "id": "NKpTMBvRAwFu"
      },
      "source": [
        "### Array slicing"
      ]
    },
    {
      "cell_type": "code",
      "execution_count": null,
      "metadata": {
        "colab": {
          "base_uri": "https://localhost:8080/"
        },
        "id": "Kn9T2gIaCnF5",
        "outputId": "25646f2c-889d-436a-cd4d-10d5294385d4"
      },
      "outputs": [
        {
          "data": {
            "text/plain": [
              "array([[1, 2, 3],\n",
              "       [4, 5, 6]])"
            ]
          },
          "execution_count": 70,
          "metadata": {},
          "output_type": "execute_result"
        }
      ],
      "source": [
        "np_a"
      ]
    },
    {
      "cell_type": "code",
      "execution_count": null,
      "metadata": {
        "colab": {
          "base_uri": "https://localhost:8080/"
        },
        "id": "wzmZ_cK7Cq3g",
        "outputId": "0cfc6abd-a653-4cbe-8955-7990fd530d27"
      },
      "outputs": [
        {
          "data": {
            "text/plain": [
              "array([2, 5])"
            ]
          },
          "execution_count": 71,
          "metadata": {},
          "output_type": "execute_result"
        }
      ],
      "source": [
        "np_a[:,1]"
      ]
    },
    {
      "cell_type": "markdown",
      "metadata": {
        "id": "42bBJMPO58A3"
      },
      "source": [
        "Average $\\bar{x}$"
      ]
    },
    {
      "cell_type": "code",
      "execution_count": null,
      "metadata": {
        "colab": {
          "base_uri": "https://localhost:8080/"
        },
        "id": "hGlkrBeM5d8Y",
        "outputId": "2ce7fb41-1ea0-44c5-dbe6-ecd03b043e35"
      },
      "outputs": [
        {
          "data": {
            "text/plain": [
              "3.5"
            ]
          },
          "execution_count": 72,
          "metadata": {},
          "output_type": "execute_result"
        }
      ],
      "source": [
        "np.mean(np_a)"
      ]
    },
    {
      "cell_type": "code",
      "execution_count": null,
      "metadata": {
        "colab": {
          "base_uri": "https://localhost:8080/"
        },
        "id": "c7DIa-d76oap",
        "outputId": "ada55197-3b17-487f-9a56-9367e227310b"
      },
      "outputs": [
        {
          "data": {
            "text/plain": [
              "array([2.5, 3.5, 4.5])"
            ]
          },
          "execution_count": 73,
          "metadata": {},
          "output_type": "execute_result"
        }
      ],
      "source": [
        "np.mean(np_a,axis=0)"
      ]
    },
    {
      "cell_type": "code",
      "execution_count": null,
      "metadata": {
        "colab": {
          "base_uri": "https://localhost:8080/"
        },
        "id": "jhxRUJVj6-MQ",
        "outputId": "b6654e02-04a0-44a7-dc2a-950cfd5721ec"
      },
      "outputs": [
        {
          "data": {
            "text/plain": [
              "array([2., 5.])"
            ]
          },
          "execution_count": 74,
          "metadata": {},
          "output_type": "execute_result"
        }
      ],
      "source": [
        "np.mean(np_a,axis=1)"
      ]
    },
    {
      "cell_type": "markdown",
      "metadata": {
        "id": "eZYHIR06HafQ"
      },
      "source": [
        "# Distance Matrix"
      ]
    },
    {
      "cell_type": "code",
      "execution_count": null,
      "metadata": {
        "colab": {
          "base_uri": "https://localhost:8080/"
        },
        "id": "1UIUjMIU7Ax5",
        "outputId": "cb856a1f-158f-4dad-834a-937cc427ef09"
      },
      "outputs": [
        {
          "data": {
            "text/plain": [
              "array([[1, 2],\n",
              "       [3, 5],\n",
              "       [2, 0],\n",
              "       [4, 5]])"
            ]
          },
          "execution_count": 75,
          "metadata": {},
          "output_type": "execute_result"
        }
      ],
      "source": [
        "data1 = np.array([[1,2],[3,5],[2,0],[4,5]])\n",
        "data1"
      ]
    },
    {
      "cell_type": "code",
      "execution_count": null,
      "metadata": {
        "colab": {
          "base_uri": "https://localhost:8080/",
          "height": 282
        },
        "id": "UBXfznpVHlLC",
        "outputId": "b644658f-314a-4952-b0a4-45c8cfbfecd1"
      },
      "outputs": [
        {
          "data": {
            "text/plain": [
              "[<matplotlib.lines.Line2D at 0x7feee01ff0d0>]"
            ]
          },
          "execution_count": 76,
          "metadata": {},
          "output_type": "execute_result"
        },
        {
          "data": {
            "image/png": "[encoded data removed]",
            "text/plain": [
              "<Figure size 640x480 with 1 Axes>"
            ]
          },
          "metadata": {},
          "output_type": "display_data"
        }
      ],
      "source": [
        "from matplotlib import pyplot as plt\n",
        "plt.plot(data1[:,0],data1[:,1],'o')"
      ]
    },
    {
      "cell_type": "markdown",
      "metadata": {
        "id": "l-hXX0waItTr"
      },
      "source": [
        "Euclidean Distance\n",
        "$\\sqrt{(x_1 - x_2)^2 + (y_1 - y_2)^2}$"
      ]
    },
    {
      "cell_type": "code",
      "execution_count": null,
      "metadata": {
        "colab": {
          "base_uri": "https://localhost:8080/"
        },
        "id": "VJNMlfNTNdSZ",
        "outputId": "01549a0a-a004-4bb1-e614-4245c68aaab3"
      },
      "outputs": [
        {
          "data": {
            "text/plain": [
              "3.605551275463989"
            ]
          },
          "execution_count": 77,
          "metadata": {},
          "output_type": "execute_result"
        }
      ],
      "source": [
        "dist_p1_p2 = np.sqrt(np.power(1-3,2)+np.power(2-5,2))\n",
        "dist_p1_p2"
      ]
    },
    {
      "cell_type": "code",
      "execution_count": null,
      "metadata": {
        "colab": {
          "base_uri": "https://localhost:8080/"
        },
        "id": "fA9ARX1OH7wK",
        "outputId": "e090cd3b-4b1b-4448-cea8-65a3e6795ede"
      },
      "outputs": [
        {
          "data": {
            "text/plain": [
              "3.605551275463989"
            ]
          },
          "execution_count": 78,
          "metadata": {},
          "output_type": "execute_result"
        }
      ],
      "source": [
        "dist_p1_p2 = np.sqrt(np.power(data1[0,0]-data1[1,0],2)+np.power(data1[0,1]-data1[1,1],2))\n",
        "dist_p1_p2"
      ]
    },
    {
      "cell_type": "code",
      "execution_count": null,
      "metadata": {
        "colab": {
          "base_uri": "https://localhost:8080/"
        },
        "id": "EOVEe_JrLaWG",
        "outputId": "747bfa81-b480-4b10-c436-f9d0b346b277"
      },
      "outputs": [
        {
          "data": {
            "text/plain": [
              "array([1, 2])"
            ]
          },
          "execution_count": 79,
          "metadata": {},
          "output_type": "execute_result"
        }
      ],
      "source": [
        "data1[0,:]"
      ]
    },
    {
      "cell_type": "code",
      "execution_count": null,
      "metadata": {
        "colab": {
          "base_uri": "https://localhost:8080/"
        },
        "id": "18zIvMmzMHeh",
        "outputId": "420c952a-0792-42d1-d1aa-7ee1353f20f3"
      },
      "outputs": [
        {
          "data": {
            "text/plain": [
              "2"
            ]
          },
          "execution_count": 80,
          "metadata": {},
          "output_type": "execute_result"
        }
      ],
      "source": [
        "len(data1[0,:])"
      ]
    },
    {
      "cell_type": "code",
      "execution_count": null,
      "metadata": {
        "id": "k9EO7VWgJua7"
      },
      "outputs": [],
      "source": [
        "def eud_dist(pt1,pt2): #2 dims\n",
        "    return np.sqrt(np.power(pt1[0]-pt2[0],2)+np.power(pt1[1]-pt2[1],2))"
      ]
    },
    {
      "cell_type": "code",
      "execution_count": null,
      "metadata": {
        "colab": {
          "base_uri": "https://localhost:8080/"
        },
        "id": "tpUPjgTILoPg",
        "outputId": "5cdb9180-6ce2-4578-a2d1-71d528b0907c"
      },
      "outputs": [
        {
          "data": {
            "text/plain": [
              "3.605551275463989"
            ]
          },
          "execution_count": 82,
          "metadata": {},
          "output_type": "execute_result"
        }
      ],
      "source": [
        "eud_dist(data1[0,:],data1[1,:])"
      ]
    },
    {
      "cell_type": "code",
      "execution_count": null,
      "metadata": {
        "id": "m8US9O35LwpP"
      },
      "outputs": [],
      "source": [
        "def eud_dist_n(pt1,pt2): #n dims\n",
        "    sum = 0\n",
        "    for i in range(len(pt1)):\n",
        "        sum = sum + np.power(pt1[i]-pt2[i],2)\n",
        "    return np.sqrt(sum)"
      ]
    },
    {
      "cell_type": "code",
      "execution_count": null,
      "metadata": {
        "colab": {
          "base_uri": "https://localhost:8080/"
        },
        "id": "vKqF8oFTMXZK",
        "outputId": "b7bdde94-29bc-4de5-e24b-86234054c5c7"
      },
      "outputs": [
        {
          "data": {
            "text/plain": [
              "1.0"
            ]
          },
          "execution_count": 84,
          "metadata": {},
          "output_type": "execute_result"
        }
      ],
      "source": [
        "eud_dist_n(data1[1,:],data1[3,:])"
      ]
    },
    {
      "cell_type": "markdown",
      "metadata": {
        "id": "Qex-2LheN7Nq"
      },
      "source": [
        "## Quiz 9\n",
        "\n",
        "เขียน function คำนวณ\n",
        "Manhattan Distance\n",
        "$|x_1 - x_2| + |y_1 - y_2|$"
      ]
    },
    {
      "cell_type": "code",
      "execution_count": null,
      "metadata": {
        "colab": {
          "base_uri": "https://localhost:8080/"
        },
        "id": "S7WAY8o_M8Ib",
        "outputId": "9a190934-4d3b-44e1-fbf9-423c2dd7556c"
      },
      "outputs": [
        {
          "data": {
            "text/plain": [
              "5.0"
            ]
          },
          "execution_count": 85,
          "metadata": {},
          "output_type": "execute_result"
        }
      ],
      "source": [
        "def Manh_dist_n(pt1, pt2):\n",
        "    sum =0\n",
        "    for i in range(len(pt1)):\n",
        "        sum = sum + np.sqrt(np.power(pt1[i] - pt2[i], 2))\n",
        "    return sum\n",
        "\n",
        "Manh_dist_n(data1[1, :], data1[0, :])"
      ]
    },
    {
      "cell_type": "code",
      "execution_count": null,
      "metadata": {
        "colab": {
          "base_uri": "https://localhost:8080/"
        },
        "id": "YdXp9jetRhcb",
        "outputId": "607e0df5-8ad5-4e25-f2ef-eb7a7cc2ce43"
      },
      "outputs": [
        {
          "data": {
            "text/plain": [
              "5"
            ]
          },
          "execution_count": 86,
          "metadata": {},
          "output_type": "execute_result"
        }
      ],
      "source": [
        "def Manh_dist_n(pt1, pt2):\n",
        "    sum =0\n",
        "    for i in range(len(pt1)):\n",
        "        sum = sum + np.absolute(pt1[i] - pt2[i])\n",
        "    return sum\n",
        "\n",
        "Manh_dist_n(data1[1, :], data1[0, :])"
      ]
    },
    {
      "cell_type": "code",
      "execution_count": null,
      "metadata": {
        "colab": {
          "base_uri": "https://localhost:8080/",
          "height": 37
        },
        "id": "cY7HLOvbR86U",
        "outputId": "dc7f75f5-faaf-489b-d8b6-25799c5b132d"
      },
      "outputs": [
        {
          "data": {
            "text/plain": [
              "'kie'"
            ]
          },
          "execution_count": 87,
          "metadata": {},
          "output_type": "execute_result"
        }
      ],
      "source": [
        "np.random.choice(['kie','oil','nicha'])"
      ]
    },
    {
      "cell_type": "code",
      "execution_count": null,
      "metadata": {
        "id": "ur5uNJhPCifW"
      },
      "outputs": [],
      "source": [
        "def eud_dist_matrix(A):\n",
        "    Eud_matrix = np.zeros((len(A),len(A)))\n",
        "    for i in range(len(A)):\n",
        "        for j in range(len(A)):\n",
        "            Eud_matrix[i,j] = eud_dist_n(A[i, :], A[j, :])\n",
        "\n",
        "    return Eud_matrix"
      ]
    },
    {
      "cell_type": "code",
      "execution_count": null,
      "metadata": {
        "colab": {
          "base_uri": "https://localhost:8080/"
        },
        "id": "1WbMyyfzFN1B",
        "outputId": "6810d8c5-ed3c-46a0-f557-5808073bd0c7"
      },
      "outputs": [
        {
          "data": {
            "text/plain": [
              "array([[0.        , 3.60555128, 2.23606798, 4.24264069],\n",
              "       [3.60555128, 0.        , 5.09901951, 1.        ],\n",
              "       [2.23606798, 5.09901951, 0.        , 5.38516481],\n",
              "       [4.24264069, 1.        , 5.38516481, 0.        ]])"
            ]
          },
          "execution_count": 89,
          "metadata": {},
          "output_type": "execute_result"
        }
      ],
      "source": [
        "eud_dist_matrix(data1)"
      ]
    },
    {
      "cell_type": "code",
      "execution_count": null,
      "metadata": {
        "id": "8j1fNphVFYD1"
      },
      "outputs": [],
      "source": []
    },
    {
      "cell_type": "code",
      "execution_count": null,
      "metadata": {
        "id": "Et9XXLMgFm-c"
      },
      "outputs": [],
      "source": []
    }
  ],
  "metadata": {
    "colab": {
      "provenance": [],
      "include_colab_link": true
    },
    "kernelspec": {
      "display_name": "Python 3 (ipykernel)",
      "language": "python",
      "name": "python3"
    },
    "language_info": {
      "codemirror_mode": {
        "name": "ipython",
        "version": 3
      },
      "file_extension": ".py",
      "mimetype": "text/x-python",
      "name": "python",
      "nbconvert_exporter": "python",
      "pygments_lexer": "ipython3",
      "version": "3.8.8"
    }
  },
  "nbformat": 4,
  "nbformat_minor": 0
}