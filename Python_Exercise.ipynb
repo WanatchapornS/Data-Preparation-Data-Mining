{
  "cells": [
    {
      "cell_type": "markdown",
      "metadata": {
        "id": "view-in-github",
        "colab_type": "text"
      },
      "source": [
        "<a href=\"https://colab.research.google.com/github/WanatchapornS/Data-Preparation-Data-Mining/blob/main/Python_Exercise.ipynb\" target=\"_parent\"><img src=\"https://colab.research.google.com/assets/colab-badge.svg\" alt=\"Open In Colab\"/></a>"
      ]
    },
    {
      "cell_type": "markdown",
      "id": "309e41b0",
      "metadata": {
        "id": "309e41b0"
      },
      "source": [
        "# Python Exercise"
      ]
    },
    {
      "cell_type": "code",
      "source": [
        "x = \"Wanatchaporn\"\n",
        "print(\"My name is\\t\",x,\"\\n\")"
      ],
      "metadata": {
        "colab": {
          "base_uri": "https://localhost:8080/"
        },
        "id": "Sy0PDn8OEOsP",
        "outputId": "5ee4678e-32a6-4274-b3ad-5c8818d15992"
      },
      "id": "Sy0PDn8OEOsP",
      "execution_count": 1,
      "outputs": [
        {
          "output_type": "stream",
          "name": "stdout",
          "text": [
            "My name is\t Wanatchaporn \n",
            "\n"
          ]
        }
      ]
    },
    {
      "cell_type": "code",
      "execution_count": 2,
      "id": "4d8dc97d",
      "metadata": {
        "id": "4d8dc97d",
        "outputId": "80321a05-7994-4eaf-a95a-03dcbdf385af",
        "colab": {
          "base_uri": "https://localhost:8080/"
        }
      },
      "outputs": [
        {
          "output_type": "stream",
          "name": "stdout",
          "text": [
            "The answer is 69\n",
            "\n",
            "Hello. \n",
            "\n",
            "Hello World\n",
            "\n",
            "Hello\tWorld\n",
            "('Hi', 'There')\n"
          ]
        }
      ],
      "source": [
        "print(\"The answer is\", 3*23)\n",
        "print() # new line\n",
        "\n",
        "print(\"Hello\", end=\". \")\n",
        "print(\"\\n\") # new line\n",
        "\n",
        "print(\"Hello\", \"World\\n\")\n",
        "\n",
        "print(\"Hello\", \"World\", sep=\"\\t\")\n",
        "\n",
        "print((\"Hi\", \"There\"))  #tuper"
      ]
    },
    {
      "cell_type": "code",
      "source": [
        "#print ธรรมดากับปริ้น System Error คือมันเน้นให้เราเห็นได้ชัดมากกว่า"
      ],
      "metadata": {
        "id": "f7E2Gg8gF1Pp"
      },
      "id": "f7E2Gg8gF1Pp",
      "execution_count": null,
      "outputs": []
    },
    {
      "cell_type": "code",
      "execution_count": 3,
      "id": "68667dea",
      "metadata": {
        "scrolled": true,
        "id": "68667dea",
        "outputId": "96bc01e9-ad5a-4637-9000-b744581061c9",
        "colab": {
          "base_uri": "https://localhost:8080/"
        }
      },
      "outputs": [
        {
          "output_type": "stream",
          "name": "stderr",
          "text": [
            "fatal error\n"
          ]
        }
      ],
      "source": [
        "import sys\n",
        "print(\"fatal error\", file=sys.stderr)"
      ]
    },
    {
      "cell_type": "markdown",
      "id": "0da8b16d",
      "metadata": {
        "id": "0da8b16d"
      },
      "source": [
        "Print date and time:\n",
        "https://www.w3schools.com/python/python_datetime.asp"
      ]
    },
    {
      "cell_type": "code",
      "execution_count": 20,
      "id": "eb246687",
      "metadata": {
        "id": "eb246687",
        "outputId": "7a4bf73b-c8ad-4bb7-d5c0-44c05d14d4fb",
        "colab": {
          "base_uri": "https://localhost:8080/"
        }
      },
      "outputs": [
        {
          "output_type": "execute_result",
          "data": {
            "text/plain": [
              "datetime.datetime(2023, 6, 30, 2, 24, 36, 429692)"
            ]
          },
          "metadata": {},
          "execution_count": 20
        }
      ],
      "source": [
        "import datetime\n",
        "now = datetime.datetime.now()\n",
        "now"
      ]
    },
    {
      "cell_type": "code",
      "execution_count": 21,
      "id": "a621f989",
      "metadata": {
        "id": "a621f989",
        "outputId": "7164f900-ca48-4978-80a8-2471eb401ba4",
        "colab": {
          "base_uri": "https://localhost:8080/"
        }
      },
      "outputs": [
        {
          "output_type": "stream",
          "name": "stdout",
          "text": [
            "Current date and time : \n",
            "2023-06-30 02:24:36 is Friday, June 30 at 02.24 AM\n"
          ]
        }
      ],
      "source": [
        "print (\"Current date and time : \")\n",
        "print (now.strftime(\"%Y-%m-%d %H:%M:%S is %A, %B %d at %I.%M %p\"))"
      ]
    },
    {
      "cell_type": "code",
      "source": [
        "# Fri, Jun 30, 2023\n",
        "print (now.strftime(\" %a, %b %d %Y \"))"
      ],
      "metadata": {
        "colab": {
          "base_uri": "https://localhost:8080/"
        },
        "id": "APitwOXMHk2e",
        "outputId": "7455317e-7774-441d-a9fd-2d4142b3471f"
      },
      "id": "APitwOXMHk2e",
      "execution_count": 25,
      "outputs": [
        {
          "output_type": "stream",
          "name": "stdout",
          "text": [
            " Fri, Jun 30 2023 \n"
          ]
        }
      ]
    },
    {
      "cell_type": "markdown",
      "id": "3dcd32c6",
      "metadata": {
        "id": "3dcd32c6"
      },
      "source": [
        "### <span style=\"color:red\">**Print the following string in a specific format**</span>\n",
        "Sample Output:\n",
        "```\n",
        "Twinkle, twinkle, little star,\n",
        "\tHow I wonder what you are!\n",
        "\t\tUp above the world so high,\n",
        "\t\tLike a diamond in the sky.\n",
        "Twinkle, twinkle, little star,\n",
        "\tHow I wonder what you are\n",
        "```"
      ]
    },
    {
      "cell_type": "markdown",
      "source": [
        "https://www.tutorialspoint.com/python/python_strings.htm\n",
        " เครื่องหมาย"
      ],
      "metadata": {
        "id": "s67XruTyKa_e"
      },
      "id": "s67XruTyKa_e"
    },
    {
      "cell_type": "code",
      "execution_count": 42,
      "id": "fb8ae54f",
      "metadata": {
        "id": "fb8ae54f",
        "colab": {
          "base_uri": "https://localhost:8080/"
        },
        "outputId": "d50f23d6-4ca9-47a6-8c19-d88af4a96e1e"
      },
      "outputs": [
        {
          "output_type": "stream",
          "name": "stdout",
          "text": [
            "Twinkle, twinkle, little star, \n",
            "\tHow I wonder what you are!\t         \n",
            "\t\tUp above the world so high,\n",
            "\t\tLike a diamond in the sky.           \n",
            "Twinkle, twinkle, little star,\n",
            "\tHow I wonder what you are\n"
          ]
        }
      ],
      "source": [
        "print(\"Twinkle, twinkle, little star, \\n\\tHow I wonder what you are!\\t \\\n",
        "        \\n\\t\\tUp above the world so high,\\n\\t\\tLike a diamond in the sky.   \\\n",
        "        \\nTwinkle, twinkle, little star,\\n\\tHow I wonder what you are\")"
      ]
    },
    {
      "cell_type": "code",
      "source": [
        "print(\"\\\\t\")"
      ],
      "metadata": {
        "colab": {
          "base_uri": "https://localhost:8080/"
        },
        "id": "MRlkTBtqKjIE",
        "outputId": "34099e57-c753-447b-f0d1-cef3d9152fd3"
      },
      "id": "MRlkTBtqKjIE",
      "execution_count": 45,
      "outputs": [
        {
          "output_type": "stream",
          "name": "stdout",
          "text": [
            "\\t\n"
          ]
        }
      ]
    },
    {
      "cell_type": "markdown",
      "id": "51036c02",
      "metadata": {
        "id": "51036c02"
      },
      "source": [
        "Write a Python program that calculates the area of a circle based on the radius entered by the user\n",
        "\n",
        "Sample Output :\n",
        "```\n",
        "r = 1.1\n",
        "Area = 3.8013271108436504\n",
        "```"
      ]
    },
    {
      "cell_type": "code",
      "execution_count": 46,
      "id": "a5aabee3",
      "metadata": {
        "id": "a5aabee3",
        "outputId": "d45bc2e5-ec98-46db-e851-376afd0c650f",
        "colab": {
          "base_uri": "https://localhost:8080/"
        }
      },
      "outputs": [
        {
          "output_type": "stream",
          "name": "stdout",
          "text": [
            "Input the radius of the circle : 6\n",
            "r =6.0\n",
            "Area =113.09733552923255\n"
          ]
        }
      ],
      "source": [
        "from math import pi\n",
        "r = float(input(\"Input the radius of the circle : \"))\n",
        "print (\"r =\" + str(r) + \"\\nArea =\" + str(pi * r**2))"
      ]
    },
    {
      "cell_type": "markdown",
      "id": "bb6daa0e",
      "metadata": {
        "id": "bb6daa0e"
      },
      "source": [
        "### <span style=\"color:red\">**Print first and last name in reverse order with a space between them**</span>\n",
        "Sample Output:\n",
        "```\n",
        "Input your First Name : Pitchaya                                       \n",
        "Input your Last Name : Wiratch                                        \n",
        "Hello, Wiratch Pitchaya!  \n",
        "```"
      ]
    },
    {
      "cell_type": "code",
      "execution_count": 62,
      "id": "d6b51dfb",
      "metadata": {
        "id": "d6b51dfb",
        "colab": {
          "base_uri": "https://localhost:8080/"
        },
        "outputId": "21a7c236-1783-4804-be41-b49d9f2351e0"
      },
      "outputs": [
        {
          "output_type": "stream",
          "name": "stdout",
          "text": [
            "Input your First Name :Wanatchaporn\n",
            "Input your Last Name :Sunipun\n",
            "Hello,  Wanatchaporn Sunipun !\n"
          ]
        }
      ],
      "source": [
        "F = input(\"Input your First Name :\")\n",
        "L = input(\"Input your Last Name :\")\n",
        "print(\"Hello, \" , str(F), str(L) , \"!\" )\n"
      ]
    },
    {
      "cell_type": "markdown",
      "id": "00a7e398",
      "metadata": {
        "id": "00a7e398"
      },
      "source": [
        "Write a Python program that accepts a sequence of comma-separated numbers from the user and generates a list and a tuple of those numbers\n",
        "```\n",
        "Sample data : 3, 5, 7, 23\n",
        "Output :\n",
        "List : ['3', ' 5', ' 7', ' 23']\n",
        "Tuple : ('3', ' 5', ' 7', ' 23')\n",
        "```\n",
        "Hint: using `split()`"
      ]
    },
    {
      "cell_type": "code",
      "execution_count": 4,
      "id": "72b239b3",
      "metadata": {
        "id": "72b239b3",
        "outputId": "26a5d5f5-df89-46ed-b06a-b85bdada9ecc",
        "colab": {
          "base_uri": "https://localhost:8080/"
        }
      },
      "outputs": [
        {
          "output_type": "stream",
          "name": "stdout",
          "text": [
            "Input some comma seprated numbers : dfg,\n",
            "['dfg', '']\n",
            "List :  ['dfg', '']\n",
            "Tuple :  ('dfg', '')\n"
          ]
        }
      ],
      "source": [
        "values = input(\"Input some comma seprated numbers : \")\n",
        "mylist = values.split(\",\")\n",
        "print(mylist)\n",
        "mytuple = tuple(mylist)\n",
        "print('List : ',mylist)\n",
        "print('Tuple : ',mytuple)"
      ]
    },
    {
      "cell_type": "markdown",
      "id": "d9767ffa",
      "metadata": {
        "id": "d9767ffa"
      },
      "source": [
        "### <span style=\"color:red\">**Write a Python program that accepts a filename from the user and prints the extension of the file**</span>\n",
        "```\n",
        "Sample filename : abc.java\n",
        "Output : java\n",
        "```"
      ]
    },
    {
      "cell_type": "code",
      "execution_count": 6,
      "id": "d34132b0",
      "metadata": {
        "id": "d34132b0",
        "colab": {
          "base_uri": "https://localhost:8080/"
        },
        "outputId": "c4ed807f-a9bb-45dc-ee72-0bf80a59210d"
      },
      "outputs": [
        {
          "output_type": "stream",
          "name": "stdout",
          "text": [
            "Write filename : jo.pp\n",
            "Output :  pp\n"
          ]
        }
      ],
      "source": [
        "filename = input(\"Write filename : \")\n",
        "print(\"Output : \", filename.split(\".\")[-1])"
      ]
    },
    {
      "cell_type": "markdown",
      "id": "e8e4e804",
      "metadata": {
        "id": "e8e4e804"
      },
      "source": [
        "### <span style=\"color:red\">**Write a Python program to display the first and last colors from the following list**</span>"
      ]
    },
    {
      "cell_type": "code",
      "execution_count": 7,
      "id": "a1e83b3c",
      "metadata": {
        "id": "a1e83b3c"
      },
      "outputs": [],
      "source": [
        "color_list = [\"Red\",\"Green\",\"White\" ,\"Black\"]"
      ]
    },
    {
      "cell_type": "code",
      "execution_count": 8,
      "id": "10aabdcc",
      "metadata": {
        "id": "10aabdcc",
        "colab": {
          "base_uri": "https://localhost:8080/"
        },
        "outputId": "c7fd186c-bf3e-41e9-b953-82d04b2ecdf0"
      },
      "outputs": [
        {
          "output_type": "execute_result",
          "data": {
            "text/plain": [
              "['Red', 'Green', 'White', 'Black']"
            ]
          },
          "metadata": {},
          "execution_count": 8
        }
      ],
      "source": [
        "color_list"
      ]
    },
    {
      "cell_type": "code",
      "source": [
        "print(\"Frist color is\", color_list[0],\"\\nLast color is\", color_list[-1])"
      ],
      "metadata": {
        "colab": {
          "base_uri": "https://localhost:8080/"
        },
        "id": "xLNAyVx4RaeW",
        "outputId": "8fa329a0-51f7-468b-ef41-183a7945ffaa"
      },
      "id": "xLNAyVx4RaeW",
      "execution_count": 9,
      "outputs": [
        {
          "output_type": "stream",
          "name": "stdout",
          "text": [
            "Frist color is Red \n",
            "Last color is Black\n"
          ]
        }
      ]
    },
    {
      "cell_type": "markdown",
      "id": "1b03e5c9",
      "metadata": {
        "id": "1b03e5c9"
      },
      "source": [
        "Write a Python program that prints the calendar for a given month and year\n",
        "<p>Note : Use 'calendar' module."
      ]
    },
    {
      "cell_type": "code",
      "execution_count": 70,
      "id": "392a634e",
      "metadata": {
        "id": "392a634e",
        "outputId": "073e64d1-51eb-445e-bdff-cdddb4827c53",
        "colab": {
          "base_uri": "https://localhost:8080/"
        }
      },
      "outputs": [
        {
          "output_type": "stream",
          "name": "stdout",
          "text": [
            "Input the year : 2023\n",
            "Input the month : 6\n",
            "     June 2023\n",
            "Mo Tu We Th Fr Sa Su\n",
            "          1  2  3  4\n",
            " 5  6  7  8  9 10 11\n",
            "12 13 14 15 16 17 18\n",
            "19 20 21 22 23 24 25\n",
            "26 27 28 29 30\n",
            "\n"
          ]
        }
      ],
      "source": [
        "import calendar\n",
        "y = int(input(\"Input the year : \"))\n",
        "m = int(input(\"Input the month : \"))\n",
        "print(calendar.month(y, m))"
      ]
    },
    {
      "cell_type": "markdown",
      "id": "a30c6fa4",
      "metadata": {
        "id": "a30c6fa4"
      },
      "source": [
        "Write a Python program to calculate the number of days between two dates\n",
        "`datetime.date(year, month, day)`"
      ]
    },
    {
      "cell_type": "code",
      "execution_count": 71,
      "id": "a9c67f76",
      "metadata": {
        "id": "a9c67f76",
        "outputId": "8170f868-4d45-4564-8dad-8fd5f387737e",
        "colab": {
          "base_uri": "https://localhost:8080/"
        }
      },
      "outputs": [
        {
          "output_type": "stream",
          "name": "stdout",
          "text": [
            "9\n"
          ]
        }
      ],
      "source": [
        "from datetime import date\n",
        "f_date = date(2014, 7, 2)\n",
        "l_date = date(2014, 7, 11)\n",
        "delta = l_date - f_date\n",
        "print(delta.days)"
      ]
    },
    {
      "cell_type": "code",
      "execution_count": 75,
      "id": "b77b1e70",
      "metadata": {
        "id": "b77b1e70",
        "outputId": "86c5efaf-513c-462f-f72f-a737fdab1006",
        "colab": {
          "base_uri": "https://localhost:8080/"
        }
      },
      "outputs": [
        {
          "output_type": "execute_result",
          "data": {
            "text/plain": [
              "datetime.date(2014, 7, 2)"
            ]
          },
          "metadata": {},
          "execution_count": 75
        }
      ],
      "source": [
        "f_date"
      ]
    },
    {
      "cell_type": "markdown",
      "id": "b36e5dbb",
      "metadata": {
        "id": "b36e5dbb"
      },
      "source": [
        "### <span style=\"color:red\">**Write a Python program to calculate the difference between a given number and 17. If the number is greater than 17, return twice the absolute difference**</span>\n",
        "```\n",
        "def function_name(argument):\n",
        "    ...\n",
        "\n",
        "def function_name(argument1, argument2):\n",
        "    summation = argument1 + argument2\n",
        "    return(summation)\n",
        "```"
      ]
    },
    {
      "cell_type": "code",
      "execution_count": 10,
      "id": "57d94acd",
      "metadata": {
        "id": "57d94acd"
      },
      "outputs": [],
      "source": [
        "def computel(given_number) :\n",
        "  if given_number > 17:\n",
        "    result = abs(17-given_number)*2\n",
        "  else:\n",
        "    result = 17 - given_number\n",
        "  return(result)\n"
      ]
    },
    {
      "cell_type": "code",
      "source": [
        "computel(21)"
      ],
      "metadata": {
        "colab": {
          "base_uri": "https://localhost:8080/"
        },
        "id": "qcd8kPYeT4ur",
        "outputId": "b6f05b45-ca55-4931-899b-5efd614c2b0c"
      },
      "id": "qcd8kPYeT4ur",
      "execution_count": 11,
      "outputs": [
        {
          "output_type": "execute_result",
          "data": {
            "text/plain": [
              "8"
            ]
          },
          "metadata": {},
          "execution_count": 11
        }
      ]
    },
    {
      "cell_type": "markdown",
      "id": "bcd0bc39",
      "metadata": {
        "id": "bcd0bc39"
      },
      "source": [
        "### <span style=\"color:red\">**Get a string which is n (non-negative integer) copies of a given string**</span>"
      ]
    },
    {
      "cell_type": "code",
      "source": [
        "def genString(mystr,numcopies):\n",
        "\n",
        "  return(mystr*numcopies)"
      ],
      "metadata": {
        "id": "tUQ7YVzX4AK-"
      },
      "id": "tUQ7YVzX4AK-",
      "execution_count": 14,
      "outputs": []
    },
    {
      "cell_type": "code",
      "source": [
        "\"abc\"*3"
      ],
      "metadata": {
        "colab": {
          "base_uri": "https://localhost:8080/",
          "height": 35
        },
        "id": "gD_jeX4d4COg",
        "outputId": "72784163-03ae-4015-d42b-19874e0576be"
      },
      "id": "gD_jeX4d4COg",
      "execution_count": 15,
      "outputs": [
        {
          "output_type": "execute_result",
          "data": {
            "text/plain": [
              "'abcabcabc'"
            ],
            "application/vnd.google.colaboratory.intrinsic+json": {
              "type": "string"
            }
          },
          "metadata": {},
          "execution_count": 15
        }
      ]
    },
    {
      "cell_type": "code",
      "source": [
        "mystr = \"abc\"\n",
        "result = \" \"\n",
        "for i in range(3):\n",
        "    result = result + mystr\n",
        "    print(result,i)\n",
        "result"
      ],
      "metadata": {
        "colab": {
          "base_uri": "https://localhost:8080/",
          "height": 87
        },
        "id": "IHMKbAAi4QSe",
        "outputId": "c4a8ace2-c1f2-4489-a8c7-9383988c2b01"
      },
      "id": "IHMKbAAi4QSe",
      "execution_count": 16,
      "outputs": [
        {
          "output_type": "stream",
          "name": "stdout",
          "text": [
            " abc 0\n",
            " abcabc 1\n",
            " abcabcabc 2\n"
          ]
        },
        {
          "output_type": "execute_result",
          "data": {
            "text/plain": [
              "' abcabcabc'"
            ],
            "application/vnd.google.colaboratory.intrinsic+json": {
              "type": "string"
            }
          },
          "metadata": {},
          "execution_count": 16
        }
      ]
    },
    {
      "cell_type": "code",
      "execution_count": 17,
      "id": "c56187e5",
      "metadata": {
        "id": "c56187e5"
      },
      "outputs": [],
      "source": [
        "def genString1(mystr,numcopies):\n",
        "    return(mystr*numcopies)\n",
        "\n",
        "def genString2(mystr,numcopies):\n",
        "    result = \"\"\n",
        "    for i in range(numcopies):\n",
        "      result = result + mystr\n",
        "    return(result)"
      ]
    },
    {
      "cell_type": "code",
      "source": [
        "print(genString1(\"abc\",3), genString2(\"abc\",3))"
      ],
      "metadata": {
        "colab": {
          "base_uri": "https://localhost:8080/"
        },
        "id": "oDwnYL3rWw7T",
        "outputId": "54552281-35fb-4176-8fd2-bf9284b8a0fb"
      },
      "id": "oDwnYL3rWw7T",
      "execution_count": 18,
      "outputs": [
        {
          "output_type": "stream",
          "name": "stdout",
          "text": [
            "abcabcabc abcabcabc\n"
          ]
        }
      ]
    },
    {
      "cell_type": "markdown",
      "id": "679a8ac4",
      "metadata": {
        "id": "679a8ac4"
      },
      "source": [
        "### <span style=\"color:red\">**Get a new string from a given string where 'Is' has been added to the front. If the given string already begins with 'Is' then return the string unchanged**</span>"
      ]
    },
    {
      "cell_type": "code",
      "source": [
        "mystr = \"abc\"\n",
        "mystr[0:2]"
      ],
      "metadata": {
        "colab": {
          "base_uri": "https://localhost:8080/",
          "height": 35
        },
        "id": "2XdILLKIYsBi",
        "outputId": "11ea0a54-3e1e-4bff-f3f4-e971bc1dc41b"
      },
      "id": "2XdILLKIYsBi",
      "execution_count": 91,
      "outputs": [
        {
          "output_type": "execute_result",
          "data": {
            "text/plain": [
              "'ab'"
            ],
            "application/vnd.google.colaboratory.intrinsic+json": {
              "type": "string"
            }
          },
          "metadata": {},
          "execution_count": 91
        }
      ]
    },
    {
      "cell_type": "code",
      "execution_count": 19,
      "id": "b2e43ce5",
      "metadata": {
        "id": "b2e43ce5"
      },
      "outputs": [],
      "source": [
        "def fillingIs(mystr):\n",
        "    if mystr[0:2] == \"Is\":\n",
        "        result = mystr\n",
        "    else:\n",
        "        result = \"Is\" + mystr\n",
        "    return(result)"
      ]
    },
    {
      "cell_type": "code",
      "source": [
        "fillingIs(\"abc\")"
      ],
      "metadata": {
        "colab": {
          "base_uri": "https://localhost:8080/",
          "height": 35
        },
        "id": "OTBoilCqY550",
        "outputId": "8471bae2-b906-4d6e-bacf-45c6ff017b69"
      },
      "id": "OTBoilCqY550",
      "execution_count": 20,
      "outputs": [
        {
          "output_type": "execute_result",
          "data": {
            "text/plain": [
              "'Isabc'"
            ],
            "application/vnd.google.colaboratory.intrinsic+json": {
              "type": "string"
            }
          },
          "metadata": {},
          "execution_count": 20
        }
      ]
    },
    {
      "cell_type": "markdown",
      "id": "3249280b",
      "metadata": {
        "id": "3249280b"
      },
      "source": [
        "### <span style=\"color:red\">**Check whether a specified value is contained in a group of values**</span>\n",
        "i.e. `def is_group_member(group_data, n):` or any other way?\n",
        "```\n",
        "Test Data :\n",
        "3 -> [1, 5, 8, 3] : True\n",
        "-1 -> [1, 5, 8, 3] : False\n",
        "```"
      ]
    },
    {
      "cell_type": "code",
      "source": [
        "def is_group_member(group_data, n):\n",
        "  return(n in group_data)\n",
        "\n",
        "def is_group_menber2(group_data, n):\n",
        "  for element in group_data:\n",
        "    print(element)\n",
        "    if element == n:\n",
        "      return (True)\n",
        "  return (False)"
      ],
      "metadata": {
        "id": "9rLrZifwZ5bz"
      },
      "id": "9rLrZifwZ5bz",
      "execution_count": 21,
      "outputs": []
    },
    {
      "cell_type": "code",
      "source": [
        "is_group_menber2([1,5,8,3], 9)"
      ],
      "metadata": {
        "colab": {
          "base_uri": "https://localhost:8080/"
        },
        "id": "qhUPMU6ia7p3",
        "outputId": "bacb17fe-d6c0-4263-8cf5-46ec2fe1fe43"
      },
      "id": "qhUPMU6ia7p3",
      "execution_count": 22,
      "outputs": [
        {
          "output_type": "stream",
          "name": "stdout",
          "text": [
            "1\n",
            "5\n",
            "8\n",
            "3\n"
          ]
        },
        {
          "output_type": "execute_result",
          "data": {
            "text/plain": [
              "False"
            ]
          },
          "metadata": {},
          "execution_count": 22
        }
      ]
    },
    {
      "cell_type": "code",
      "execution_count": 103,
      "id": "da172342",
      "metadata": {
        "id": "da172342",
        "colab": {
          "base_uri": "https://localhost:8080/"
        },
        "outputId": "16800e39-5afd-45e3-bc06-7ccfa91260aa"
      },
      "outputs": [
        {
          "output_type": "execute_result",
          "data": {
            "text/plain": [
              "False"
            ]
          },
          "metadata": {},
          "execution_count": 103
        }
      ],
      "source": [
        "n = -1\n",
        "group_data =[1,5,8,3]\n",
        "n in group_data"
      ]
    },
    {
      "cell_type": "code",
      "source": [
        "is_group_member([1, 5, 8, 3],9)"
      ],
      "metadata": {
        "colab": {
          "base_uri": "https://localhost:8080/"
        },
        "id": "ljkuTGlr4mo0",
        "outputId": "13bd0092-4a13-4f4e-f708-68891682bfa5"
      },
      "id": "ljkuTGlr4mo0",
      "execution_count": 23,
      "outputs": [
        {
          "output_type": "execute_result",
          "data": {
            "text/plain": [
              "False"
            ]
          },
          "metadata": {},
          "execution_count": 23
        }
      ]
    },
    {
      "cell_type": "markdown",
      "id": "babb262a",
      "metadata": {
        "id": "babb262a"
      },
      "source": [
        "### <span style=\"color:red\">**Write a Python program to print all even numbers from a given list of numbers in the same order and stop printing any after 237 in the sequence**</span>\n",
        "```\n",
        "Sample numbers list :\n",
        "numbers = [386, 462, 47, 418, 907, 344, 236, 375, 823, 566, 597, 978, 328, 615, 953, 345,\n",
        "           399, 162, 758, 219, 918, 237, 412, 566, 826, 248, 866, 950, 626, 949, 687, 217,\n",
        "           815, 67, 104, 58, 512, 24, 892, 894, 767, 553, 81, 379, 843, 831, 445, 742, 717,\n",
        "           958,743, 527\n",
        "          ]\n",
        "```"
      ]
    },
    {
      "cell_type": "code",
      "execution_count": 24,
      "id": "9e569489",
      "metadata": {
        "id": "9e569489"
      },
      "outputs": [],
      "source": [
        "#ปริ้นเฉพาะเลขคู่ หยุดที่237\n",
        "def print_even(numberList):\n",
        "    \"\"\" \"\"\"\n",
        "    for num in numberList:\n",
        "        if num%2 == 0 : # check if even number\n",
        "            print(num)\n",
        "        if num == 237:\n",
        "            break"
      ]
    },
    {
      "cell_type": "code",
      "source": [
        "#or"
      ],
      "metadata": {
        "id": "pDCOqa2U4w-5"
      },
      "id": "pDCOqa2U4w-5",
      "execution_count": null,
      "outputs": []
    },
    {
      "cell_type": "code",
      "source": [
        "print_even([1,2,3,4,237,6])"
      ],
      "metadata": {
        "colab": {
          "base_uri": "https://localhost:8080/"
        },
        "id": "c_NqV2y54yfS",
        "outputId": "135af722-da6d-48c5-a3f0-ad6f82513280"
      },
      "id": "c_NqV2y54yfS",
      "execution_count": 25,
      "outputs": [
        {
          "output_type": "stream",
          "name": "stdout",
          "text": [
            "2\n",
            "4\n"
          ]
        }
      ]
    },
    {
      "cell_type": "markdown",
      "id": "6aeb803b",
      "metadata": {
        "id": "6aeb803b"
      },
      "source": [
        "### <span style=\"color:red\">**Add two objects if both objects are an integer type**</span>\n",
        "```\n",
        "def add_numbers(obj1, obj2):\n",
        "    ...\n",
        "```\n",
        "Hint: try `isinstance(object, type)`"
      ]
    },
    {
      "cell_type": "code",
      "execution_count": 26,
      "id": "b2ed423b",
      "metadata": {
        "id": "b2ed423b",
        "colab": {
          "base_uri": "https://localhost:8080/",
          "height": 132
        },
        "outputId": "4f0e76e8-c34b-4169-b892-d947fcdf31ad"
      },
      "outputs": [
        {
          "output_type": "error",
          "ename": "SyntaxError",
          "evalue": "ignored",
          "traceback": [
            "\u001b[0;36m  File \u001b[0;32m\"<ipython-input-26-8904ccacd514>\"\u001b[0;36m, line \u001b[0;32m5\u001b[0m\n\u001b[0;31m    return print\"\u001b[0m\n\u001b[0m                ^\u001b[0m\n\u001b[0;31mSyntaxError\u001b[0m\u001b[0;31m:\u001b[0m unterminated string literal (detected at line 5)\n"
          ]
        }
      ],
      "source": [
        "def def add_numbers(obj1, obj2):\n",
        "    if isinstance(obj1, int) and isinstance(obj2, int):\n",
        "        return(obj1 + obj2)\n",
        "    else:\n",
        "        return print\""
      ]
    },
    {
      "cell_type": "markdown",
      "id": "d55e82ff",
      "metadata": {
        "id": "d55e82ff"
      },
      "source": [
        "### <span style=\"color:red\">**Concatenate `N` strings in a list**</span>\n",
        "i.e. `list_of_colors = ['Red', 'White', 'Black']`"
      ]
    },
    {
      "cell_type": "code",
      "execution_count": 27,
      "id": "9769cf6d",
      "metadata": {
        "id": "9769cf6d"
      },
      "outputs": [],
      "source": [
        "list_of_colors = ['Red', 'White', 'Black']\n",
        "..."
      ]
    },
    {
      "cell_type": "code",
      "source": [
        "list_of_colors[0]+list_of_colors[1]+list_of_colors[2]"
      ],
      "metadata": {
        "colab": {
          "base_uri": "https://localhost:8080/",
          "height": 35
        },
        "id": "lT3BV4Duf9yX",
        "outputId": "7409bbf8-3c79-4ce4-c2a5-bc0a998d1e69"
      },
      "id": "lT3BV4Duf9yX",
      "execution_count": 28,
      "outputs": [
        {
          "output_type": "execute_result",
          "data": {
            "text/plain": [
              "'RedWhiteBlack'"
            ],
            "application/vnd.google.colaboratory.intrinsic+json": {
              "type": "string"
            }
          },
          "metadata": {},
          "execution_count": 28
        }
      ]
    },
    {
      "cell_type": "code",
      "source": [
        "list_of_colors\n",
        "for color in list_of_colors:\n",
        "  print(color)"
      ],
      "metadata": {
        "colab": {
          "base_uri": "https://localhost:8080/"
        },
        "id": "eLjVyy05gLv2",
        "outputId": "24449da5-e667-4ad5-e16f-4d895063a88a"
      },
      "id": "eLjVyy05gLv2",
      "execution_count": 29,
      "outputs": [
        {
          "output_type": "stream",
          "name": "stdout",
          "text": [
            "Red\n",
            "White\n",
            "Black\n"
          ]
        }
      ]
    },
    {
      "cell_type": "code",
      "source": [
        "combined_colors=\" \"\n",
        "for color in list_of_colors:\n",
        "  combined_colors = combined_colors + color + \" , \"\n",
        "  print(combined_colors)"
      ],
      "metadata": {
        "colab": {
          "base_uri": "https://localhost:8080/"
        },
        "id": "9BlO8LsmgYde",
        "outputId": "86872233-4adb-47cd-dfcf-315caf83bbce"
      },
      "id": "9BlO8LsmgYde",
      "execution_count": 30,
      "outputs": [
        {
          "output_type": "stream",
          "name": "stdout",
          "text": [
            " Red , \n",
            " Red , White , \n",
            " Red , White , Black , \n"
          ]
        }
      ]
    },
    {
      "cell_type": "code",
      "source": [
        "\" \".join(list_of_colors)"
      ],
      "metadata": {
        "colab": {
          "base_uri": "https://localhost:8080/",
          "height": 35
        },
        "id": "pOsTqXw3g9Sb",
        "outputId": "67004352-4e32-4398-b7ac-af943410105a"
      },
      "id": "pOsTqXw3g9Sb",
      "execution_count": 31,
      "outputs": [
        {
          "output_type": "execute_result",
          "data": {
            "text/plain": [
              "'Red White Black'"
            ],
            "application/vnd.google.colaboratory.intrinsic+json": {
              "type": "string"
            }
          },
          "metadata": {},
          "execution_count": 31
        }
      ]
    },
    {
      "cell_type": "markdown",
      "id": "acd77943",
      "metadata": {
        "id": "acd77943"
      },
      "source": [
        "Filter the positive numbers from a list\n",
        "```\n",
        "nums = [34, 1, 0, -23, 12, -88]\n",
        "list(filter(lambda x: x >0, nums))\n",
        "```"
      ]
    },
    {
      "cell_type": "code",
      "source": [
        "nums = [34, 1, 0, -23, 12, -88]\n",
        "[i for i in filter(lambda x: x >0, nums)]"
      ],
      "metadata": {
        "colab": {
          "base_uri": "https://localhost:8080/"
        },
        "id": "lQWF7GSPhcPZ",
        "outputId": "65265009-573a-4ec5-f330-5002c1a4281d"
      },
      "id": "lQWF7GSPhcPZ",
      "execution_count": 116,
      "outputs": [
        {
          "output_type": "execute_result",
          "data": {
            "text/plain": [
              "[34, 1, 12]"
            ]
          },
          "metadata": {},
          "execution_count": 116
        }
      ]
    },
    {
      "cell_type": "code",
      "execution_count": 32,
      "id": "612b7a9a",
      "metadata": {
        "id": "612b7a9a",
        "outputId": "738dc130-0479-4095-d234-11a54ed1bbe3",
        "colab": {
          "base_uri": "https://localhost:8080/"
        }
      },
      "outputs": [
        {
          "output_type": "execute_result",
          "data": {
            "text/plain": [
              "[34, 1, -99, -99, 12, -99]"
            ]
          },
          "metadata": {},
          "execution_count": 32
        }
      ],
      "source": [
        "nums = [34, 1, 0, -23, 12, -88]\n",
        "new_nums = [i if i>0 else -99 for i in nums ]\n",
        "new_nums"
      ]
    },
    {
      "cell_type": "code",
      "source": [
        "[i for i in nums if i>0]"
      ],
      "metadata": {
        "colab": {
          "base_uri": "https://localhost:8080/"
        },
        "id": "dWeGjqsZldqk",
        "outputId": "b652b8ac-7123-4694-c835-b935b2a7c408"
      },
      "id": "dWeGjqsZldqk",
      "execution_count": 33,
      "outputs": [
        {
          "output_type": "execute_result",
          "data": {
            "text/plain": [
              "[34, 1, 12]"
            ]
          },
          "metadata": {},
          "execution_count": 33
        }
      ]
    },
    {
      "cell_type": "code",
      "source": [
        "newList = []\n",
        "for i in nums:\n",
        "    if i > 0 :\n",
        "      newList.append(i)\n",
        "    else:\n",
        "      newList.append(-99)\n",
        "newList"
      ],
      "metadata": {
        "colab": {
          "base_uri": "https://localhost:8080/"
        },
        "id": "LzeFu8XZ5Jos",
        "outputId": "656a4b47-dc1b-48e1-bd23-8d57d9e8a198"
      },
      "id": "LzeFu8XZ5Jos",
      "execution_count": 34,
      "outputs": [
        {
          "output_type": "execute_result",
          "data": {
            "text/plain": [
              "[34, 1, -99, -99, 12, -99]"
            ]
          },
          "metadata": {},
          "execution_count": 34
        }
      ]
    },
    {
      "cell_type": "markdown",
      "id": "d272b3e3",
      "metadata": {
        "id": "d272b3e3"
      },
      "source": [
        "### <span style=\"color:red\">**Filter people whose the length of their name is greater than 5**</span>\n",
        "```\n",
        "people = ['Mark', 'Martin', 'Maepranom', 'Moon']\n",
        "```"
      ]
    },
    {
      "cell_type": "code",
      "execution_count": 35,
      "id": "f7ad2847",
      "metadata": {
        "id": "f7ad2847"
      },
      "outputs": [],
      "source": [
        "people = ['Mark', 'Martin', 'Maepranom', 'Moon']"
      ]
    },
    {
      "cell_type": "code",
      "source": [
        "filterredpeople = [person for person in people if len(person)>5]\n",
        "filterredpeople"
      ],
      "metadata": {
        "colab": {
          "base_uri": "https://localhost:8080/"
        },
        "id": "ybiWOfk9i0O2",
        "outputId": "ed568dee-329f-4350-e7ff-f66ab41a426f"
      },
      "id": "ybiWOfk9i0O2",
      "execution_count": 36,
      "outputs": [
        {
          "output_type": "execute_result",
          "data": {
            "text/plain": [
              "['Martin', 'Maepranom']"
            ]
          },
          "metadata": {},
          "execution_count": 36
        }
      ]
    },
    {
      "cell_type": "code",
      "source": [
        "[df[\"nameColumn\"][i] for i in range(len(df[\"nameColumn\"]))\n",
        " if df[\"ageColumn\"][i]>25]"
      ],
      "metadata": {
        "colab": {
          "base_uri": "https://localhost:8080/",
          "height": 184
        },
        "id": "UsqAxXCllbxO",
        "outputId": "ff7d1bc1-5f22-4192-c5b0-1a6eaf046105"
      },
      "id": "UsqAxXCllbxO",
      "execution_count": 39,
      "outputs": [
        {
          "output_type": "error",
          "ename": "NameError",
          "evalue": "ignored",
          "traceback": [
            "\u001b[0;31m---------------------------------------------------------------------------\u001b[0m",
            "\u001b[0;31mNameError\u001b[0m                                 Traceback (most recent call last)",
            "\u001b[0;32m<ipython-input-39-a3e1bbc17a99>\u001b[0m in \u001b[0;36m<cell line: 1>\u001b[0;34m()\u001b[0m\n\u001b[0;32m----> 1\u001b[0;31m [df[\"nameColumn\"][i] for i in range(len(df[\"nameColumn\"]))\n\u001b[0m\u001b[1;32m      2\u001b[0m  if df[\"ageColumn\"][i]>25]\n",
            "\u001b[0;31mNameError\u001b[0m: name 'df' is not defined"
          ]
        }
      ]
    },
    {
      "cell_type": "code",
      "source": [
        "len('Martin')"
      ],
      "metadata": {
        "colab": {
          "base_uri": "https://localhost:8080/"
        },
        "id": "Cs2HoSxei9Mw",
        "outputId": "dcd57c09-ea79-4c1e-c3e0-cdb0aa5810f8"
      },
      "id": "Cs2HoSxei9Mw",
      "execution_count": 40,
      "outputs": [
        {
          "output_type": "execute_result",
          "data": {
            "text/plain": [
              "6"
            ]
          },
          "metadata": {},
          "execution_count": 40
        }
      ]
    },
    {
      "cell_type": "markdown",
      "id": "8f126032",
      "metadata": {
        "id": "8f126032"
      },
      "source": [
        "Input a number, if it is not an integer generates an error message"
      ]
    },
    {
      "cell_type": "code",
      "execution_count": 42,
      "id": "6ba22e4f",
      "metadata": {
        "id": "6ba22e4f",
        "outputId": "a0c454bc-db1d-46eb-a743-21c95a2842a0",
        "colab": {
          "base_uri": "https://localhost:8080/"
        }
      },
      "outputs": [
        {
          "name": "stdout",
          "output_type": "stream",
          "text": [
            "Input a number: 123\n"
          ]
        }
      ],
      "source": [
        "while True:\n",
        "    try:\n",
        "        a = int(input(\"Input a number: \"))\n",
        "        break\n",
        "    except ValueError:\n",
        "        print(\"\\nThis is not an integer. Try again...\")\n",
        "        print()"
      ]
    },
    {
      "cell_type": "code",
      "execution_count": 43,
      "id": "57aff751",
      "metadata": {
        "id": "57aff751",
        "colab": {
          "base_uri": "https://localhost:8080/"
        },
        "outputId": "5a208e47-1b0c-4c46-8580-9df99a4f20fa"
      },
      "outputs": [
        {
          "output_type": "stream",
          "name": "stdout",
          "text": [
            "1 1\n",
            "2 aa\n",
            "1 2\n",
            "2 aaaa\n",
            "1 4\n",
            "2 aaaaaaaa\n"
          ]
        }
      ],
      "source": [
        "mystr = \"a\"\n",
        "while len(mystr) < 5 :\n",
        "      print(\"1\",len(mystr))\n",
        "      mystr = mystr*2\n",
        "      print(\"2\",mystr)"
      ]
    }
  ],
  "metadata": {
    "kernelspec": {
      "display_name": "Python 3 (ipykernel)",
      "language": "python",
      "name": "python3"
    },
    "language_info": {
      "codemirror_mode": {
        "name": "ipython",
        "version": 3
      },
      "file_extension": ".py",
      "mimetype": "text/x-python",
      "name": "python",
      "nbconvert_exporter": "python",
      "pygments_lexer": "ipython3",
      "version": "3.8.8"
    },
    "colab": {
      "provenance": [],
      "include_colab_link": true
    }
  },
  "nbformat": 4,
  "nbformat_minor": 5
}