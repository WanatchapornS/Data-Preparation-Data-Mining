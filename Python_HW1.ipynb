{
  "cells": [
    {
      "cell_type": "markdown",
      "metadata": {
        "id": "view-in-github",
        "colab_type": "text"
      },
      "source": [
        "<a href=\"https://colab.research.google.com/github/WanatchapornS/Data-Preparation-Data-Mining/blob/main/Python_HW1.ipynb\" target=\"_parent\"><img src=\"https://colab.research.google.com/assets/colab-badge.svg\" alt=\"Open In Colab\"/></a>"
      ]
    },
    {
      "cell_type": "markdown",
      "id": "3cf3e5da",
      "metadata": {
        "id": "3cf3e5da"
      },
      "source": [
        "# Practicing Python Coding"
      ]
    },
    {
      "cell_type": "markdown",
      "id": "901b0bbc",
      "metadata": {
        "id": "901b0bbc"
      },
      "source": [
        "* สร้าง list ที่ประกอบด้วยคำว่า \"hamburger\", \"freshfries\", \"smoothie\", \"milkshake\", และ \"hot dog\"\n",
        "* จาก list ข้างต้น ให้ทำการ sliding list ให้ได้คำดังต่อไปนี้\n",
        "    * \"fries\"\n",
        "    * \"milk\"\n",
        "    * \"dog\"\n",
        "    * \"burger\""
      ]
    },
    {
      "cell_type": "code",
      "execution_count": null,
      "id": "ef7d874a",
      "metadata": {
        "id": "ef7d874a"
      },
      "outputs": [],
      "source": []
    },
    {
      "cell_type": "code",
      "execution_count": null,
      "id": "9475c0f7",
      "metadata": {
        "id": "9475c0f7"
      },
      "outputs": [],
      "source": []
    },
    {
      "cell_type": "code",
      "execution_count": null,
      "id": "c3afcef1",
      "metadata": {
        "id": "c3afcef1"
      },
      "outputs": [],
      "source": []
    },
    {
      "cell_type": "code",
      "execution_count": null,
      "id": "c79c36a8",
      "metadata": {
        "id": "c79c36a8"
      },
      "outputs": [],
      "source": []
    },
    {
      "cell_type": "code",
      "execution_count": null,
      "id": "64c25242",
      "metadata": {
        "id": "64c25242"
      },
      "outputs": [],
      "source": []
    },
    {
      "cell_type": "markdown",
      "id": "49de30b8",
      "metadata": {
        "id": "49de30b8"
      },
      "source": [
        "สร้าง list [[1],[1,2],[1,2,3],...,[1,2,3,4,5,6,7,8,9,10]] โดยใช้ for loop"
      ]
    },
    {
      "cell_type": "code",
      "execution_count": null,
      "id": "21cf8ec7",
      "metadata": {
        "id": "21cf8ec7"
      },
      "outputs": [],
      "source": []
    },
    {
      "cell_type": "markdown",
      "id": "178f5210",
      "metadata": {
        "id": "178f5210"
      },
      "source": [
        "list_ex = [1,5,9,-19,-2,0] # หาค่ามากที่สุดใน list_ex โดยไม่ใช้ function max (ใช้ for กับ if)"
      ]
    },
    {
      "cell_type": "code",
      "execution_count": null,
      "id": "fd2f819e",
      "metadata": {
        "id": "fd2f819e"
      },
      "outputs": [],
      "source": []
    },
    {
      "cell_type": "markdown",
      "id": "dbe82e45",
      "metadata": {
        "id": "dbe82e45"
      },
      "source": [
        "สร้างฟังก์ชันที่ปริ้นท์ตารางสูตรคูณจากค่าจำนวนนับที่กำหนด เช่น `multiplication_table(5)` จะปริ้นท์\n",
        "```\n",
        "5 * 1 = 5\n",
        "5 * 2 = 10\n",
        "5 * 3 = 15\n",
        "5 * 4 = 20\n",
        "5 * 5 = 25\n",
        "5 * 6 = 30\n",
        "5 * 7 = 35\n",
        "5 * 8 = 40\n",
        "5 * 9 = 45\n",
        "5 * 10 = 50\n",
        "5 * 11 = 55\n",
        "5 * 12 = 60\n",
        "```"
      ]
    },
    {
      "cell_type": "code",
      "execution_count": null,
      "id": "2b26fa8b",
      "metadata": {
        "id": "2b26fa8b"
      },
      "outputs": [],
      "source": []
    },
    {
      "cell_type": "markdown",
      "id": "792c9e6f",
      "metadata": {
        "id": "792c9e6f"
      },
      "source": [
        "เขียนฟังก์ชัน `sum_factorials(n)` ที่คำนวณค่าผลบวกต่อไปนี้จากจำนวนนับที่กำหนดให้ $1 + \\frac{1}{1!} + \\frac{1}{2!} + \\frac{1}{3!} + ... + \\frac{1}{n!}$ โดยไม่ใช้ฟังก์ชัน factorial จากไลบรารี่ใด ๆ"
      ]
    },
    {
      "cell_type": "code",
      "execution_count": null,
      "id": "84947edd",
      "metadata": {
        "id": "84947edd"
      },
      "outputs": [],
      "source": []
    },
    {
      "cell_type": "code",
      "execution_count": null,
      "id": "17fc2667",
      "metadata": {
        "id": "17fc2667"
      },
      "outputs": [],
      "source": [
        "# Check! ฟังก์ชันที่เขียนถูกต้อง ถ้ารันโค้ดผ่านโดยไม่มี error ใด ๆ\n",
        "import numpy as np\n",
        "assert np.isclose(sum_factorials(5), sum([1/np.math.factorial(i) for i in range(0,6)])), \"The computation is wrong!\"\n",
        "assert np.isclose(sum_factorials(10), sum([1/np.math.factorial(i) for i in range(0,11)])), \"The computation is wrong!\""
      ]
    },
    {
      "cell_type": "markdown",
      "id": "9433bfbb",
      "metadata": {
        "id": "9433bfbb"
      },
      "source": [
        "# Data Preparation"
      ]
    },
    {
      "cell_type": "markdown",
      "id": "8235a996",
      "metadata": {
        "id": "8235a996"
      },
      "source": [
        "ศึกษาข้อมูล `Data_Facebook_Python.xlsx`"
      ]
    },
    {
      "cell_type": "markdown",
      "id": "97220f26",
      "metadata": {
        "id": "97220f26"
      },
      "source": [
        "อ่านข้อมูลด้วยฟังก์ชันในไลบรารี Pandas"
      ]
    },
    {
      "cell_type": "code",
      "execution_count": null,
      "id": "eaa588a5",
      "metadata": {
        "id": "eaa588a5"
      },
      "outputs": [],
      "source": []
    },
    {
      "cell_type": "markdown",
      "id": "abc6bbaf",
      "metadata": {
        "id": "abc6bbaf"
      },
      "source": [
        "ข้อมูลมีค่าว่างไหม"
      ]
    },
    {
      "cell_type": "code",
      "execution_count": null,
      "id": "edd3ac3c",
      "metadata": {
        "id": "edd3ac3c"
      },
      "outputs": [],
      "source": []
    },
    {
      "cell_type": "markdown",
      "id": "e2c7f8b3",
      "metadata": {
        "id": "e2c7f8b3"
      },
      "source": [
        "สร้างข้อมูลใหม่ โดยนำคอลัมน์ที่มีค่าสูญหายออกให้หมด"
      ]
    },
    {
      "cell_type": "code",
      "execution_count": null,
      "id": "180b0434",
      "metadata": {
        "id": "180b0434"
      },
      "outputs": [],
      "source": []
    },
    {
      "cell_type": "markdown",
      "id": "03927e3c",
      "metadata": {
        "id": "03927e3c"
      },
      "source": [
        "สร้างข้อมูลใหม่ โดยนำแถวที่มีค่าสูญหายออกให้หมด"
      ]
    },
    {
      "cell_type": "code",
      "execution_count": null,
      "id": "cb73d763",
      "metadata": {
        "id": "cb73d763"
      },
      "outputs": [],
      "source": []
    },
    {
      "cell_type": "markdown",
      "id": "18d7895e",
      "metadata": {
        "id": "18d7895e"
      },
      "source": [
        "จากข้อมูลตั้งต้น ให้เติมค่าว่างด้วย Mean, Median, หรือ Mode ของแต่ละคอลัมน์ตามความเหมาะสม"
      ]
    },
    {
      "cell_type": "code",
      "execution_count": null,
      "id": "b8471061",
      "metadata": {
        "id": "b8471061"
      },
      "outputs": [],
      "source": []
    },
    {
      "cell_type": "markdown",
      "id": "d5907b58",
      "metadata": {
        "id": "d5907b58"
      },
      "source": [
        "จากข้อมูลที่เติมค่าสูญหายเรียบร้อยแล้ว ให้สร้างข้อมูลใหม่ที่ทำการลงรหัสของ Factor (F1 - F5) และ Objective (O1 - O3) ทั้งหมด ตาม Sheet คู่มือลงรหัส"
      ]
    },
    {
      "cell_type": "code",
      "execution_count": null,
      "id": "5c95cf7e",
      "metadata": {
        "id": "5c95cf7e"
      },
      "outputs": [],
      "source": []
    },
    {
      "cell_type": "markdown",
      "id": "db52fd4d",
      "metadata": {
        "id": "db52fd4d"
      },
      "source": [
        "จากข้อมูลที่เติมค่าสูญหายเรียบร้อยแล้ว ให้สร้าง plot แสดงความถี่ของตัวแปรเพศของผู้ใช้เฟซบุ๊ค"
      ]
    },
    {
      "cell_type": "code",
      "execution_count": null,
      "id": "36fac357",
      "metadata": {
        "id": "36fac357"
      },
      "outputs": [],
      "source": []
    },
    {
      "cell_type": "markdown",
      "id": "8f2e8514",
      "metadata": {
        "id": "8f2e8514"
      },
      "source": [
        "จากข้อมูลที่เติมค่าสูญหายเรียบร้อยแล้ว ให้สร้าง box plot แสดงการแจกแจงของตัวแปรอายุของผู้ใช้เฟซบุ๊ค"
      ]
    },
    {
      "cell_type": "code",
      "execution_count": null,
      "id": "cde20c81",
      "metadata": {
        "id": "cde20c81"
      },
      "outputs": [],
      "source": []
    },
    {
      "cell_type": "markdown",
      "id": "25863b47",
      "metadata": {
        "id": "25863b47"
      },
      "source": [
        "จากข้อมูลที่เติมค่าสูญหายเรียบร้อยแล้ว ให้สร้าง bar plot แสดงความถี่ของประเภทการใช้งานแบบต่าง ๆ (TYPE)"
      ]
    },
    {
      "cell_type": "code",
      "execution_count": null,
      "id": "78ce7fe5",
      "metadata": {
        "id": "78ce7fe5"
      },
      "outputs": [],
      "source": []
    },
    {
      "cell_type": "markdown",
      "id": "4da73332",
      "metadata": {
        "id": "4da73332"
      },
      "source": [
        "จากข้อมูลที่เติมค่าสูญหายเรียบร้อยแล้ว ให้สร้างตารางสรุปค่า Factor และ Objective ทั้งหมด"
      ]
    },
    {
      "cell_type": "code",
      "execution_count": null,
      "id": "166a0826",
      "metadata": {
        "id": "166a0826"
      },
      "outputs": [],
      "source": []
    },
    {
      "cell_type": "markdown",
      "id": "63724c94",
      "metadata": {
        "id": "63724c94"
      },
      "source": [
        "จากข้อมูลที่เติมค่าสูญหายเรียบร้อยแล้ว ให้สร้างตารางสรุปค่า Factor และ Objective ทั้งหมด โดยแบ่งการพิจารณาตามเพศ"
      ]
    },
    {
      "cell_type": "code",
      "execution_count": null,
      "id": "a78fd31b",
      "metadata": {
        "id": "a78fd31b"
      },
      "outputs": [],
      "source": []
    },
    {
      "cell_type": "markdown",
      "id": "01e86710",
      "metadata": {
        "id": "01e86710"
      },
      "source": [
        "จากข้อมูลที่เติมค่าสูญหายเรียบร้อยแล้ว ให้สร้างตารางสรุปรายได้ของผู้ใช้เฟซบุ๊คตามผู้ที่มีประเภทการใช้งานแบบต่าง ๆ กัน พร้อมทั้งสร้างแผนภาพประกอบให้เข้าใจผลได้ง่ายขึ้น ให้เขียนอธิบายสั้น ๆ จากสิ่งที่พบเห็น"
      ]
    },
    {
      "cell_type": "code",
      "execution_count": null,
      "id": "c65fcf21",
      "metadata": {
        "id": "c65fcf21"
      },
      "outputs": [],
      "source": []
    },
    {
      "cell_type": "markdown",
      "id": "a1ae2f33",
      "metadata": {
        "id": "a1ae2f33"
      },
      "source": [
        "เลือกทำการสร้างตารางและรูปภาพที่สรุปผลจากข้อมูลมาอย่างละ 2 แบบ พร้อมเขียนบรรยายสั้น ๆ หากมีการทำงานร่วมกับเพื่อน ให้ทำออกมาให้ไม่ซ้ำกัน"
      ]
    },
    {
      "cell_type": "code",
      "execution_count": null,
      "id": "15834154",
      "metadata": {
        "id": "15834154"
      },
      "outputs": [],
      "source": []
    },
    {
      "cell_type": "code",
      "execution_count": null,
      "id": "35b83053",
      "metadata": {
        "id": "35b83053"
      },
      "outputs": [],
      "source": []
    }
  ],
  "metadata": {
    "kernelspec": {
      "display_name": "Python 3 (ipykernel)",
      "language": "python",
      "name": "python3"
    },
    "language_info": {
      "codemirror_mode": {
        "name": "ipython",
        "version": 3
      },
      "file_extension": ".py",
      "mimetype": "text/x-python",
      "name": "python",
      "nbconvert_exporter": "python",
      "pygments_lexer": "ipython3",
      "version": "3.8.8"
    },
    "colab": {
      "provenance": [],
      "include_colab_link": true
    }
  },
  "nbformat": 4,
  "nbformat_minor": 5
}