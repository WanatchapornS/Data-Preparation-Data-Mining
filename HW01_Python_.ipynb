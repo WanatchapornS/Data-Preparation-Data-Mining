{
  "cells": [
    {
      "cell_type": "markdown",
      "metadata": {
        "id": "view-in-github",
        "colab_type": "text"
      },
      "source": [
        "<a href=\"https://colab.research.google.com/github/WanatchapornS/Data-Preparation-Data-Mining/blob/main/HW01_Python_.ipynb\" target=\"_parent\"><img src=\"https://colab.research.google.com/assets/colab-badge.svg\" alt=\"Open In Colab\"/></a>"
      ]
    },
    {
      "cell_type": "markdown",
      "source": [
        "**633020669-7 วนัชพร สุนิพันธ์**"
      ],
      "metadata": {
        "id": "PoF1Fy9LDwMX"
      },
      "id": "PoF1Fy9LDwMX"
    },
    {
      "cell_type": "markdown",
      "id": "3cf3e5da",
      "metadata": {
        "id": "3cf3e5da"
      },
      "source": [
        "# Practicing Python Coding"
      ]
    },
    {
      "cell_type": "markdown",
      "id": "901b0bbc",
      "metadata": {
        "id": "901b0bbc"
      },
      "source": [
        "* สร้าง list ที่ประกอบด้วยคำว่า \"hamburger\", \"freshfries\", \"smoothie\", \"milkshake\", และ \"hot dog\"\n",
        "* จาก list ข้างต้น ให้ทำการ sliding list ให้ได้คำดังต่อไปนี้\n",
        "    * \"fries\"\n",
        "    * \"milk\"\n",
        "    * \"dog\"\n",
        "    * \"burger\""
      ]
    },
    {
      "cell_type": "code",
      "execution_count": 139,
      "id": "ef7d874a",
      "metadata": {
        "id": "ef7d874a"
      },
      "outputs": [],
      "source": [
        "list = ['hamburger', 'freshfries', 'smoothie', 'milkshake', 'hot dog' ]"
      ]
    },
    {
      "cell_type": "code",
      "execution_count": 140,
      "id": "9475c0f7",
      "metadata": {
        "id": "9475c0f7",
        "colab": {
          "base_uri": "https://localhost:8080/"
        },
        "outputId": "c7b9f2e5-cca6-47f2-9831-3f305be7a59a"
      },
      "outputs": [
        {
          "output_type": "execute_result",
          "data": {
            "text/plain": [
              "['hamburger', 'freshfries', 'smoothie', 'milkshake', 'hot dog']"
            ]
          },
          "metadata": {},
          "execution_count": 140
        }
      ],
      "source": [
        "list"
      ]
    },
    {
      "cell_type": "code",
      "execution_count": 141,
      "id": "c3afcef1",
      "metadata": {
        "id": "c3afcef1",
        "colab": {
          "base_uri": "https://localhost:8080/",
          "height": 35
        },
        "outputId": "47c86f6a-966e-45d9-e0a0-ff2064fee372"
      },
      "outputs": [
        {
          "output_type": "execute_result",
          "data": {
            "text/plain": [
              "'fries'"
            ],
            "application/vnd.google.colaboratory.intrinsic+json": {
              "type": "string"
            }
          },
          "metadata": {},
          "execution_count": 141
        }
      ],
      "source": [
        "list[1][5:]"
      ]
    },
    {
      "cell_type": "code",
      "execution_count": 142,
      "id": "c79c36a8",
      "metadata": {
        "id": "c79c36a8",
        "colab": {
          "base_uri": "https://localhost:8080/",
          "height": 35
        },
        "outputId": "ff717ed6-3310-4b84-cf04-ce019fe7c0d3"
      },
      "outputs": [
        {
          "output_type": "execute_result",
          "data": {
            "text/plain": [
              "'milk'"
            ],
            "application/vnd.google.colaboratory.intrinsic+json": {
              "type": "string"
            }
          },
          "metadata": {},
          "execution_count": 142
        }
      ],
      "source": [
        "list[3][0:4]"
      ]
    },
    {
      "cell_type": "code",
      "execution_count": 144,
      "id": "64c25242",
      "metadata": {
        "id": "64c25242",
        "colab": {
          "base_uri": "https://localhost:8080/",
          "height": 35
        },
        "outputId": "7462498d-4dc2-421d-82ab-7e511200157f"
      },
      "outputs": [
        {
          "output_type": "execute_result",
          "data": {
            "text/plain": [
              "'dog'"
            ],
            "application/vnd.google.colaboratory.intrinsic+json": {
              "type": "string"
            }
          },
          "metadata": {},
          "execution_count": 144
        }
      ],
      "source": [
        "list[4][4:]"
      ]
    },
    {
      "cell_type": "code",
      "source": [
        "list[0][3:]"
      ],
      "metadata": {
        "colab": {
          "base_uri": "https://localhost:8080/",
          "height": 35
        },
        "id": "UNGHvOZyzu3Q",
        "outputId": "83ad1cf9-63ae-402a-83bb-607ef5fd7868"
      },
      "id": "UNGHvOZyzu3Q",
      "execution_count": 143,
      "outputs": [
        {
          "output_type": "execute_result",
          "data": {
            "text/plain": [
              "'burger'"
            ],
            "application/vnd.google.colaboratory.intrinsic+json": {
              "type": "string"
            }
          },
          "metadata": {},
          "execution_count": 143
        }
      ]
    },
    {
      "cell_type": "markdown",
      "id": "49de30b8",
      "metadata": {
        "id": "49de30b8"
      },
      "source": [
        "สร้าง list [[1],[1,2],[1,2,3],...,[1,2,3,4,5,6,7,8,9,10]] โดยใช้ for loop"
      ]
    },
    {
      "cell_type": "code",
      "source": [
        "list_ans = []\n",
        "for i in range(1, 11):\n",
        "    sublist = list(range(1, i + 1))\n",
        "    list_ans.append(sublist)\n",
        "print(list_ans)"
      ],
      "metadata": {
        "id": "OZGMI7l2Fqma"
      },
      "id": "OZGMI7l2Fqma",
      "execution_count": null,
      "outputs": []
    },
    {
      "cell_type": "markdown",
      "source": [
        "list_ex = [1,5,9,-19,-2,0] # หาค่ามากที่สุดใน list_ex โดยไม่ใช้ function max (ใช้ for กับ if)"
      ],
      "metadata": {
        "id": "v-MnkBB7GFdR"
      },
      "id": "v-MnkBB7GFdR"
    },
    {
      "cell_type": "code",
      "execution_count": 147,
      "id": "fd2f819e",
      "metadata": {
        "id": "fd2f819e",
        "colab": {
          "base_uri": "https://localhost:8080/"
        },
        "outputId": "e3ef2abb-9be6-47cd-ea0e-adff29c7c7b5"
      },
      "outputs": [
        {
          "output_type": "stream",
          "name": "stdout",
          "text": [
            "9\n"
          ]
        }
      ],
      "source": [
        "list_ex = [1,5,9,-19,-2,0]\n",
        "\n",
        "max = -100000000\n",
        "\n",
        "list_ex = [1,5,9,-19,-2,0]\n",
        "for x in list_ex:\n",
        "    if x > max:\n",
        "        max = x\n",
        "\n",
        "print(max)"
      ]
    },
    {
      "cell_type": "markdown",
      "id": "dbe82e45",
      "metadata": {
        "id": "dbe82e45"
      },
      "source": [
        "สร้างฟังก์ชันที่ปริ้นท์ตารางสูตรคูณจากค่าจำนวนนับที่กำหนด เช่น `multiplication_table(5)` จะปริ้นท์\n",
        "```\n",
        "5 * 1 = 5\n",
        "5 * 2 = 10\n",
        "5 * 3 = 15\n",
        "5 * 4 = 20\n",
        "5 * 5 = 25\n",
        "5 * 6 = 30\n",
        "5 * 7 = 35\n",
        "5 * 8 = 40\n",
        "5 * 9 = 45\n",
        "5 * 10 = 50\n",
        "5 * 11 = 55\n",
        "5 * 12 = 60\n",
        "```"
      ]
    },
    {
      "cell_type": "code",
      "source": [
        "def multiplication_table(n):\n",
        "    for i in range(1, n+1):\n",
        "        result = 5 * i\n",
        "        print(f\"5 * {i} = {result}\")\n",
        "multiplication_table(12)"
      ],
      "metadata": {
        "colab": {
          "base_uri": "https://localhost:8080/"
        },
        "id": "AkeMXEibhCeY",
        "outputId": "8f394442-19f7-4d82-e2e9-91051a33c11c"
      },
      "id": "AkeMXEibhCeY",
      "execution_count": 148,
      "outputs": [
        {
          "output_type": "stream",
          "name": "stdout",
          "text": [
            "5 * 1 = 5\n",
            "5 * 2 = 10\n",
            "5 * 3 = 15\n",
            "5 * 4 = 20\n",
            "5 * 5 = 25\n",
            "5 * 6 = 30\n",
            "5 * 7 = 35\n",
            "5 * 8 = 40\n",
            "5 * 9 = 45\n",
            "5 * 10 = 50\n",
            "5 * 11 = 55\n",
            "5 * 12 = 60\n"
          ]
        }
      ]
    },
    {
      "cell_type": "markdown",
      "id": "792c9e6f",
      "metadata": {
        "id": "792c9e6f"
      },
      "source": [
        "เขียนฟังก์ชัน `sum_factorials(n)` ที่คำนวณค่าผลบวกต่อไปนี้จากจำนวนนับที่กำหนดให้ $1 + \\frac{1}{1!} + \\frac{1}{2!} + \\frac{1}{3!} + ... + \\frac{1}{n!}$ โดยไม่ใช้ฟังก์ชัน factorial จากไลบรารี่ใด ๆ"
      ]
    },
    {
      "cell_type": "code",
      "execution_count": 149,
      "id": "84947edd",
      "metadata": {
        "id": "84947edd"
      },
      "outputs": [],
      "source": [
        "def factorial(x):\n",
        "     factorial = 1\n",
        "     for i in range(1, x+1):\n",
        "          factorial *= i\n",
        "     return factorial\n",
        "\n",
        "def sum_factorials(n):\n",
        "     total_sum = 1.0\n",
        "     for i in range(1, n+1):\n",
        "          total_sum += 1.0 / factorial(i)\n",
        "     return total_sum\n"
      ]
    },
    {
      "cell_type": "code",
      "execution_count": 150,
      "id": "17fc2667",
      "metadata": {
        "id": "17fc2667"
      },
      "outputs": [],
      "source": [
        "# Check! ฟังก์ชันที่เขียนถูกต้อง ถ้ารันโค้ดผ่านโดยไม่มี error ใด ๆ\n",
        "import numpy as np\n",
        "assert np.isclose(sum_factorials(5), sum([1/np.math.factorial(i) for i in range(0,6)])), \"The computation is wrong!\"\n",
        "assert np.isclose(sum_factorials(10), sum([1/np.math.factorial(i) for i in range(0,11)])), \"The computation is wrong!\""
      ]
    },
    {
      "cell_type": "markdown",
      "id": "9433bfbb",
      "metadata": {
        "id": "9433bfbb"
      },
      "source": [
        "# Data Preparation"
      ]
    },
    {
      "cell_type": "markdown",
      "id": "8235a996",
      "metadata": {
        "id": "8235a996"
      },
      "source": [
        "ศึกษาข้อมูล `Data_Facebook_Python.xlsx`"
      ]
    },
    {
      "cell_type": "markdown",
      "id": "97220f26",
      "metadata": {
        "id": "97220f26"
      },
      "source": [
        "อ่านข้อมูลด้วยฟังก์ชันในไลบรารี Pandas"
      ]
    },
    {
      "cell_type": "code",
      "execution_count": 200,
      "id": "eaa588a5",
      "metadata": {
        "id": "eaa588a5",
        "colab": {
          "base_uri": "https://localhost:8080/"
        },
        "outputId": "424688d2-80b7-4ea1-8277-0b9c8cd24253"
      },
      "outputs": [
        {
          "output_type": "stream",
          "name": "stdout",
          "text": [
            "Drive already mounted at /content/drive/; to attempt to forcibly remount, call drive.mount(\"/content/drive/\", force_remount=True).\n"
          ]
        }
      ],
      "source": [
        "from google.colab import drive\n",
        "drive.mount(\"/content/drive/\")"
      ]
    },
    {
      "cell_type": "code",
      "source": [
        "import pandas as pd"
      ],
      "metadata": {
        "id": "mpXgCC1PMlT7"
      },
      "id": "mpXgCC1PMlT7",
      "execution_count": 201,
      "outputs": []
    },
    {
      "cell_type": "code",
      "source": [
        "Data_Facebook = pd.read_excel('/content/drive/My Drive/Colab Notebooks/Data_Facebook_Python.xlsx')\n",
        "Data_Facebook"
      ],
      "metadata": {
        "colab": {
          "base_uri": "https://localhost:8080/",
          "height": 832
        },
        "id": "61D5vETvIgY8",
        "outputId": "e8533db9-0860-4faa-f949-1b9125e3829a"
      },
      "id": "61D5vETvIgY8",
      "execution_count": 202,
      "outputs": [
        {
          "output_type": "execute_result",
          "data": {
            "text/plain": [
              "      No GENDER  AGE               EDUCATION                 CAREER   SALARY  \\\n",
              "0      1   หญิง   23               ปริญญาตรี     พนักงานบริษัทเอกชน  20000.0   \n",
              "1      2   หญิง   22               ปริญญาตรี  ข้าราชการ/รัฐวิสาหกิจ  16000.0   \n",
              "2      3    ชาย   25               ปริญญาตรี     พนักงานบริษัทเอกชน  18000.0   \n",
              "3      4   หญิง   21  มัธยมปลายหรือเทียบเท่า  ข้าราชการ/รัฐวิสาหกิจ  14000.0   \n",
              "4      5    ชาย   18  มัธยมปลายหรือเทียบเท่า      นักเรียน/นักศึกษา  10000.0   \n",
              "..   ...    ...  ...                     ...                    ...      ...   \n",
              "195  196    ชาย   25               ปริญญาตรี     พนักงานบริษัทเอกชน  20000.0   \n",
              "196  197   หญิง   24               ปริญญาตรี     พนักงานบริษัทเอกชน  18000.0   \n",
              "197  198    ชาย   17  มัธยมปลายหรือเทียบเท่า      นักเรียน/นักศึกษา  10000.0   \n",
              "198  199    ชาย   25               ปริญญาตรี     พนักงานบริษัทเอกชน  20000.0   \n",
              "199  200   หญิง   25               ปริญญาตรี     พนักงานบริษัทเอกชน  20000.0   \n",
              "\n",
              "     INTERNET_PAY                         PLACE               TIME  \\\n",
              "0             590                    บ้าน/หอพัก  4 - 6 วัน/สัปดาห์   \n",
              "1             500                    บ้าน/หอพัก             ทุกวัน   \n",
              "2             590  สถานที่ให้บริการอินเตอร์เน็ต  2 - 3 วัน/สัปดาห์   \n",
              "3             500                    บ้าน/หอพัก             ทุกวัน   \n",
              "4             650                    บ้าน/หอพัก             ทุกวัน   \n",
              "..            ...                           ...                ...   \n",
              "195           590                    บ้าน/หอพัก  2 - 3 วัน/สัปดาห์   \n",
              "196           500                    บ้าน/หอพัก  4 - 6 วัน/สัปดาห์   \n",
              "197           590                    บ้าน/หอพัก             ทุกวัน   \n",
              "198           650                    บ้าน/หอพัก             ทุกวัน   \n",
              "199           590                    บ้าน/หอพัก             ทุกวัน   \n",
              "\n",
              "                  HOUR  ... APPLICATIONS                           TYPE  \\\n",
              "0       3 - 4 ชม. /วัน  ...          ใช้         การโพสต์ข้อความ/รูปภาพ   \n",
              "1    มากกว่า 4 ชม./วัน  ...          ใช้         การโพสต์ข้อความ/รูปภาพ   \n",
              "2       3 - 4 ชม. /วัน  ...          ใช้         การโพสต์ข้อความ/รูปภาพ   \n",
              "3    มากกว่า 4 ชม./วัน  ...          ใช้  เกมส์ที่เน้นการได้คะแนนสูงสุด   \n",
              "4    มากกว่า 4 ชม./วัน  ...          ใช้         การโพสต์ข้อความ/รูปภาพ   \n",
              "..                 ...  ...          ...                            ...   \n",
              "195     3 - 4 ชม. /วัน  ...          ใช้         การโพสต์ข้อความ/รูปภาพ   \n",
              "196     3 - 4 ชม. /วัน  ...          ใช้         การโพสต์ข้อความ/รูปภาพ   \n",
              "197  มากกว่า 4 ชม./วัน  ...          ใช้         การโพสต์ข้อความ/รูปภาพ   \n",
              "198  มากกว่า 4 ชม./วัน  ...          ใช้         การโพสต์ข้อความ/รูปภาพ   \n",
              "199     1 - 2 ชม. /วัน  ...          ใช้         การโพสต์ข้อความ/รูปภาพ   \n",
              "\n",
              "               (F1)      (F2)             (F3)             (F4)  \\\n",
              "0          สำคัญมาก   ปานกลาง          ปานกลาง          ปานกลาง   \n",
              "1    สำคัญมากที่สุด  สำคัญมาก          ปานกลาง          ปานกลาง   \n",
              "2          สำคัญมาก   ปานกลาง  สำคัญน้อยที่สุด        สำคัญน้อย   \n",
              "3    สำคัญมากที่สุด   ปานกลาง   สำคัญมากที่สุด         สำคัญมาก   \n",
              "4    สำคัญมากที่สุด   ปานกลาง         สำคัญมาก         สำคัญมาก   \n",
              "..              ...       ...              ...              ...   \n",
              "195  สำคัญมากที่สุด  สำคัญมาก         สำคัญมาก          ปานกลาง   \n",
              "196  สำคัญมากที่สุด  สำคัญมาก         สำคัญมาก  สำคัญน้อยที่สุด   \n",
              "197  สำคัญมากที่สุด   ปานกลาง         สำคัญมาก         สำคัญมาก   \n",
              "198  สำคัญมากที่สุด   ปานกลาง          ปานกลาง         สำคัญมาก   \n",
              "199  สำคัญมากที่สุด   ปานกลาง          ปานกลาง          ปานกลาง   \n",
              "\n",
              "               (F5)            (O1)            (O2)             (O3)  \n",
              "0    สำคัญมากที่สุด  สำคัญมากที่สุด        สำคัญมาก  สำคัญน้อยที่สุด  \n",
              "1    สำคัญมากที่สุด  สำคัญมากที่สุด  สำคัญมากที่สุด        สำคัญน้อย  \n",
              "2          สำคัญมาก  สำคัญมากที่สุด         ปานกลาง  สำคัญน้อยที่สุด  \n",
              "3    สำคัญมากที่สุด  สำคัญมากที่สุด  สำคัญมากที่สุด          ปานกลาง  \n",
              "4    สำคัญมากที่สุด  สำคัญมากที่สุด  สำคัญมากที่สุด          ปานกลาง  \n",
              "..              ...             ...             ...              ...  \n",
              "195  สำคัญมากที่สุด  สำคัญมากที่สุด        สำคัญมาก         สำคัญมาก  \n",
              "196  สำคัญมากที่สุด  สำคัญมากที่สุด  สำคัญมากที่สุด         สำคัญมาก  \n",
              "197  สำคัญมากที่สุด  สำคัญมากที่สุด  สำคัญมากที่สุด         สำคัญมาก  \n",
              "198  สำคัญมากที่สุด  สำคัญมากที่สุด  สำคัญมากที่สุด   สำคัญมากที่สุด  \n",
              "199  สำคัญมากที่สุด  สำคัญมากที่สุด         ปานกลาง  สำคัญน้อยที่สุด  \n",
              "\n",
              "[200 rows x 21 columns]"
            ],
            "text/html": [
              "\n",
              "\n",
              "  <div id=\"df-a74bfc68-0217-4c4e-afbe-ccede4ee4079\">\n",
              "    <div class=\"colab-df-container\">\n",
              "      <div>\n",
              "<style scoped>\n",
              "    .dataframe tbody tr th:only-of-type {\n",
              "        vertical-align: middle;\n",
              "    }\n",
              "\n",
              "    .dataframe tbody tr th {\n",
              "        vertical-align: top;\n",
              "    }\n",
              "\n",
              "    .dataframe thead th {\n",
              "        text-align: right;\n",
              "    }\n",
              "</style>\n",
              "<table border=\"1\" class=\"dataframe\">\n",
              "  <thead>\n",
              "    <tr style=\"text-align: right;\">\n",
              "      <th></th>\n",
              "      <th>No</th>\n",
              "      <th>GENDER</th>\n",
              "      <th>AGE</th>\n",
              "      <th>EDUCATION</th>\n",
              "      <th>CAREER</th>\n",
              "      <th>SALARY</th>\n",
              "      <th>INTERNET_PAY</th>\n",
              "      <th>PLACE</th>\n",
              "      <th>TIME</th>\n",
              "      <th>HOUR</th>\n",
              "      <th>...</th>\n",
              "      <th>APPLICATIONS</th>\n",
              "      <th>TYPE</th>\n",
              "      <th>(F1)</th>\n",
              "      <th>(F2)</th>\n",
              "      <th>(F3)</th>\n",
              "      <th>(F4)</th>\n",
              "      <th>(F5)</th>\n",
              "      <th>(O1)</th>\n",
              "      <th>(O2)</th>\n",
              "      <th>(O3)</th>\n",
              "    </tr>\n",
              "  </thead>\n",
              "  <tbody>\n",
              "    <tr>\n",
              "      <th>0</th>\n",
              "      <td>1</td>\n",
              "      <td>หญิง</td>\n",
              "      <td>23</td>\n",
              "      <td>ปริญญาตรี</td>\n",
              "      <td>พนักงานบริษัทเอกชน</td>\n",
              "      <td>20000.0</td>\n",
              "      <td>590</td>\n",
              "      <td>บ้าน/หอพัก</td>\n",
              "      <td>4 - 6 วัน/สัปดาห์</td>\n",
              "      <td>3 - 4 ชม. /วัน</td>\n",
              "      <td>...</td>\n",
              "      <td>ใช้</td>\n",
              "      <td>การโพสต์ข้อความ/รูปภาพ</td>\n",
              "      <td>สำคัญมาก</td>\n",
              "      <td>ปานกลาง</td>\n",
              "      <td>ปานกลาง</td>\n",
              "      <td>ปานกลาง</td>\n",
              "      <td>สำคัญมากที่สุด</td>\n",
              "      <td>สำคัญมากที่สุด</td>\n",
              "      <td>สำคัญมาก</td>\n",
              "      <td>สำคัญน้อยที่สุด</td>\n",
              "    </tr>\n",
              "    <tr>\n",
              "      <th>1</th>\n",
              "      <td>2</td>\n",
              "      <td>หญิง</td>\n",
              "      <td>22</td>\n",
              "      <td>ปริญญาตรี</td>\n",
              "      <td>ข้าราชการ/รัฐวิสาหกิจ</td>\n",
              "      <td>16000.0</td>\n",
              "      <td>500</td>\n",
              "      <td>บ้าน/หอพัก</td>\n",
              "      <td>ทุกวัน</td>\n",
              "      <td>มากกว่า 4 ชม./วัน</td>\n",
              "      <td>...</td>\n",
              "      <td>ใช้</td>\n",
              "      <td>การโพสต์ข้อความ/รูปภาพ</td>\n",
              "      <td>สำคัญมากที่สุด</td>\n",
              "      <td>สำคัญมาก</td>\n",
              "      <td>ปานกลาง</td>\n",
              "      <td>ปานกลาง</td>\n",
              "      <td>สำคัญมากที่สุด</td>\n",
              "      <td>สำคัญมากที่สุด</td>\n",
              "      <td>สำคัญมากที่สุด</td>\n",
              "      <td>สำคัญน้อย</td>\n",
              "    </tr>\n",
              "    <tr>\n",
              "      <th>2</th>\n",
              "      <td>3</td>\n",
              "      <td>ชาย</td>\n",
              "      <td>25</td>\n",
              "      <td>ปริญญาตรี</td>\n",
              "      <td>พนักงานบริษัทเอกชน</td>\n",
              "      <td>18000.0</td>\n",
              "      <td>590</td>\n",
              "      <td>สถานที่ให้บริการอินเตอร์เน็ต</td>\n",
              "      <td>2 - 3 วัน/สัปดาห์</td>\n",
              "      <td>3 - 4 ชม. /วัน</td>\n",
              "      <td>...</td>\n",
              "      <td>ใช้</td>\n",
              "      <td>การโพสต์ข้อความ/รูปภาพ</td>\n",
              "      <td>สำคัญมาก</td>\n",
              "      <td>ปานกลาง</td>\n",
              "      <td>สำคัญน้อยที่สุด</td>\n",
              "      <td>สำคัญน้อย</td>\n",
              "      <td>สำคัญมาก</td>\n",
              "      <td>สำคัญมากที่สุด</td>\n",
              "      <td>ปานกลาง</td>\n",
              "      <td>สำคัญน้อยที่สุด</td>\n",
              "    </tr>\n",
              "    <tr>\n",
              "      <th>3</th>\n",
              "      <td>4</td>\n",
              "      <td>หญิง</td>\n",
              "      <td>21</td>\n",
              "      <td>มัธยมปลายหรือเทียบเท่า</td>\n",
              "      <td>ข้าราชการ/รัฐวิสาหกิจ</td>\n",
              "      <td>14000.0</td>\n",
              "      <td>500</td>\n",
              "      <td>บ้าน/หอพัก</td>\n",
              "      <td>ทุกวัน</td>\n",
              "      <td>มากกว่า 4 ชม./วัน</td>\n",
              "      <td>...</td>\n",
              "      <td>ใช้</td>\n",
              "      <td>เกมส์ที่เน้นการได้คะแนนสูงสุด</td>\n",
              "      <td>สำคัญมากที่สุด</td>\n",
              "      <td>ปานกลาง</td>\n",
              "      <td>สำคัญมากที่สุด</td>\n",
              "      <td>สำคัญมาก</td>\n",
              "      <td>สำคัญมากที่สุด</td>\n",
              "      <td>สำคัญมากที่สุด</td>\n",
              "      <td>สำคัญมากที่สุด</td>\n",
              "      <td>ปานกลาง</td>\n",
              "    </tr>\n",
              "    <tr>\n",
              "      <th>4</th>\n",
              "      <td>5</td>\n",
              "      <td>ชาย</td>\n",
              "      <td>18</td>\n",
              "      <td>มัธยมปลายหรือเทียบเท่า</td>\n",
              "      <td>นักเรียน/นักศึกษา</td>\n",
              "      <td>10000.0</td>\n",
              "      <td>650</td>\n",
              "      <td>บ้าน/หอพัก</td>\n",
              "      <td>ทุกวัน</td>\n",
              "      <td>มากกว่า 4 ชม./วัน</td>\n",
              "      <td>...</td>\n",
              "      <td>ใช้</td>\n",
              "      <td>การโพสต์ข้อความ/รูปภาพ</td>\n",
              "      <td>สำคัญมากที่สุด</td>\n",
              "      <td>ปานกลาง</td>\n",
              "      <td>สำคัญมาก</td>\n",
              "      <td>สำคัญมาก</td>\n",
              "      <td>สำคัญมากที่สุด</td>\n",
              "      <td>สำคัญมากที่สุด</td>\n",
              "      <td>สำคัญมากที่สุด</td>\n",
              "      <td>ปานกลาง</td>\n",
              "    </tr>\n",
              "    <tr>\n",
              "      <th>...</th>\n",
              "      <td>...</td>\n",
              "      <td>...</td>\n",
              "      <td>...</td>\n",
              "      <td>...</td>\n",
              "      <td>...</td>\n",
              "      <td>...</td>\n",
              "      <td>...</td>\n",
              "      <td>...</td>\n",
              "      <td>...</td>\n",
              "      <td>...</td>\n",
              "      <td>...</td>\n",
              "      <td>...</td>\n",
              "      <td>...</td>\n",
              "      <td>...</td>\n",
              "      <td>...</td>\n",
              "      <td>...</td>\n",
              "      <td>...</td>\n",
              "      <td>...</td>\n",
              "      <td>...</td>\n",
              "      <td>...</td>\n",
              "      <td>...</td>\n",
              "    </tr>\n",
              "    <tr>\n",
              "      <th>195</th>\n",
              "      <td>196</td>\n",
              "      <td>ชาย</td>\n",
              "      <td>25</td>\n",
              "      <td>ปริญญาตรี</td>\n",
              "      <td>พนักงานบริษัทเอกชน</td>\n",
              "      <td>20000.0</td>\n",
              "      <td>590</td>\n",
              "      <td>บ้าน/หอพัก</td>\n",
              "      <td>2 - 3 วัน/สัปดาห์</td>\n",
              "      <td>3 - 4 ชม. /วัน</td>\n",
              "      <td>...</td>\n",
              "      <td>ใช้</td>\n",
              "      <td>การโพสต์ข้อความ/รูปภาพ</td>\n",
              "      <td>สำคัญมากที่สุด</td>\n",
              "      <td>สำคัญมาก</td>\n",
              "      <td>สำคัญมาก</td>\n",
              "      <td>ปานกลาง</td>\n",
              "      <td>สำคัญมากที่สุด</td>\n",
              "      <td>สำคัญมากที่สุด</td>\n",
              "      <td>สำคัญมาก</td>\n",
              "      <td>สำคัญมาก</td>\n",
              "    </tr>\n",
              "    <tr>\n",
              "      <th>196</th>\n",
              "      <td>197</td>\n",
              "      <td>หญิง</td>\n",
              "      <td>24</td>\n",
              "      <td>ปริญญาตรี</td>\n",
              "      <td>พนักงานบริษัทเอกชน</td>\n",
              "      <td>18000.0</td>\n",
              "      <td>500</td>\n",
              "      <td>บ้าน/หอพัก</td>\n",
              "      <td>4 - 6 วัน/สัปดาห์</td>\n",
              "      <td>3 - 4 ชม. /วัน</td>\n",
              "      <td>...</td>\n",
              "      <td>ใช้</td>\n",
              "      <td>การโพสต์ข้อความ/รูปภาพ</td>\n",
              "      <td>สำคัญมากที่สุด</td>\n",
              "      <td>สำคัญมาก</td>\n",
              "      <td>สำคัญมาก</td>\n",
              "      <td>สำคัญน้อยที่สุด</td>\n",
              "      <td>สำคัญมากที่สุด</td>\n",
              "      <td>สำคัญมากที่สุด</td>\n",
              "      <td>สำคัญมากที่สุด</td>\n",
              "      <td>สำคัญมาก</td>\n",
              "    </tr>\n",
              "    <tr>\n",
              "      <th>197</th>\n",
              "      <td>198</td>\n",
              "      <td>ชาย</td>\n",
              "      <td>17</td>\n",
              "      <td>มัธยมปลายหรือเทียบเท่า</td>\n",
              "      <td>นักเรียน/นักศึกษา</td>\n",
              "      <td>10000.0</td>\n",
              "      <td>590</td>\n",
              "      <td>บ้าน/หอพัก</td>\n",
              "      <td>ทุกวัน</td>\n",
              "      <td>มากกว่า 4 ชม./วัน</td>\n",
              "      <td>...</td>\n",
              "      <td>ใช้</td>\n",
              "      <td>การโพสต์ข้อความ/รูปภาพ</td>\n",
              "      <td>สำคัญมากที่สุด</td>\n",
              "      <td>ปานกลาง</td>\n",
              "      <td>สำคัญมาก</td>\n",
              "      <td>สำคัญมาก</td>\n",
              "      <td>สำคัญมากที่สุด</td>\n",
              "      <td>สำคัญมากที่สุด</td>\n",
              "      <td>สำคัญมากที่สุด</td>\n",
              "      <td>สำคัญมาก</td>\n",
              "    </tr>\n",
              "    <tr>\n",
              "      <th>198</th>\n",
              "      <td>199</td>\n",
              "      <td>ชาย</td>\n",
              "      <td>25</td>\n",
              "      <td>ปริญญาตรี</td>\n",
              "      <td>พนักงานบริษัทเอกชน</td>\n",
              "      <td>20000.0</td>\n",
              "      <td>650</td>\n",
              "      <td>บ้าน/หอพัก</td>\n",
              "      <td>ทุกวัน</td>\n",
              "      <td>มากกว่า 4 ชม./วัน</td>\n",
              "      <td>...</td>\n",
              "      <td>ใช้</td>\n",
              "      <td>การโพสต์ข้อความ/รูปภาพ</td>\n",
              "      <td>สำคัญมากที่สุด</td>\n",
              "      <td>ปานกลาง</td>\n",
              "      <td>ปานกลาง</td>\n",
              "      <td>สำคัญมาก</td>\n",
              "      <td>สำคัญมากที่สุด</td>\n",
              "      <td>สำคัญมากที่สุด</td>\n",
              "      <td>สำคัญมากที่สุด</td>\n",
              "      <td>สำคัญมากที่สุด</td>\n",
              "    </tr>\n",
              "    <tr>\n",
              "      <th>199</th>\n",
              "      <td>200</td>\n",
              "      <td>หญิง</td>\n",
              "      <td>25</td>\n",
              "      <td>ปริญญาตรี</td>\n",
              "      <td>พนักงานบริษัทเอกชน</td>\n",
              "      <td>20000.0</td>\n",
              "      <td>590</td>\n",
              "      <td>บ้าน/หอพัก</td>\n",
              "      <td>ทุกวัน</td>\n",
              "      <td>1 - 2 ชม. /วัน</td>\n",
              "      <td>...</td>\n",
              "      <td>ใช้</td>\n",
              "      <td>การโพสต์ข้อความ/รูปภาพ</td>\n",
              "      <td>สำคัญมากที่สุด</td>\n",
              "      <td>ปานกลาง</td>\n",
              "      <td>ปานกลาง</td>\n",
              "      <td>ปานกลาง</td>\n",
              "      <td>สำคัญมากที่สุด</td>\n",
              "      <td>สำคัญมากที่สุด</td>\n",
              "      <td>ปานกลาง</td>\n",
              "      <td>สำคัญน้อยที่สุด</td>\n",
              "    </tr>\n",
              "  </tbody>\n",
              "</table>\n",
              "<p>200 rows × 21 columns</p>\n",
              "</div>\n",
              "      <button class=\"colab-df-convert\" onclick=\"convertToInteractive('df-a74bfc68-0217-4c4e-afbe-ccede4ee4079')\"\n",
              "              title=\"Convert this dataframe to an interactive table.\"\n",
              "              style=\"display:none;\">\n",
              "\n",
              "  <svg xmlns=\"http://www.w3.org/2000/svg\" height=\"24px\"viewBox=\"0 0 24 24\"\n",
              "       width=\"24px\">\n",
              "    <path d=\"M0 0h24v24H0V0z\" fill=\"none\"/>\n",
              "    <path d=\"M18.56 5.44l.94 2.06.94-2.06 2.06-.94-2.06-.94-.94-2.06-.94 2.06-2.06.94zm-11 1L8.5 8.5l.94-2.06 2.06-.94-2.06-.94L8.5 2.5l-.94 2.06-2.06.94zm10 10l.94 2.06.94-2.06 2.06-.94-2.06-.94-.94-2.06-.94 2.06-2.06.94z\"/><path d=\"M17.41 7.96l-1.37-1.37c-.4-.4-.92-.59-1.43-.59-.52 0-1.04.2-1.43.59L10.3 9.45l-7.72 7.72c-.78.78-.78 2.05 0 2.83L4 21.41c.39.39.9.59 1.41.59.51 0 1.02-.2 1.41-.59l7.78-7.78 2.81-2.81c.8-.78.8-2.07 0-2.86zM5.41 20L4 18.59l7.72-7.72 1.47 1.35L5.41 20z\"/>\n",
              "  </svg>\n",
              "      </button>\n",
              "\n",
              "\n",
              "\n",
              "    <div id=\"df-563b3f7e-319b-4883-8bea-5b47c2963c48\">\n",
              "      <button class=\"colab-df-quickchart\" onclick=\"quickchart('df-563b3f7e-319b-4883-8bea-5b47c2963c48')\"\n",
              "              title=\"Suggest charts.\"\n",
              "              style=\"display:none;\">\n",
              "\n",
              "<svg xmlns=\"http://www.w3.org/2000/svg\" height=\"24px\"viewBox=\"0 0 24 24\"\n",
              "     width=\"24px\">\n",
              "    <g>\n",
              "        <path d=\"M19 3H5c-1.1 0-2 .9-2 2v14c0 1.1.9 2 2 2h14c1.1 0 2-.9 2-2V5c0-1.1-.9-2-2-2zM9 17H7v-7h2v7zm4 0h-2V7h2v10zm4 0h-2v-4h2v4z\"/>\n",
              "    </g>\n",
              "</svg>\n",
              "      </button>\n",
              "    </div>\n",
              "\n",
              "<style>\n",
              "  .colab-df-quickchart {\n",
              "    background-color: #E8F0FE;\n",
              "    border: none;\n",
              "    border-radius: 50%;\n",
              "    cursor: pointer;\n",
              "    display: none;\n",
              "    fill: #1967D2;\n",
              "    height: 32px;\n",
              "    padding: 0 0 0 0;\n",
              "    width: 32px;\n",
              "  }\n",
              "\n",
              "  .colab-df-quickchart:hover {\n",
              "    background-color: #E2EBFA;\n",
              "    box-shadow: 0px 1px 2px rgba(60, 64, 67, 0.3), 0px 1px 3px 1px rgba(60, 64, 67, 0.15);\n",
              "    fill: #174EA6;\n",
              "  }\n",
              "\n",
              "  [theme=dark] .colab-df-quickchart {\n",
              "    background-color: #3B4455;\n",
              "    fill: #D2E3FC;\n",
              "  }\n",
              "\n",
              "  [theme=dark] .colab-df-quickchart:hover {\n",
              "    background-color: #434B5C;\n",
              "    box-shadow: 0px 1px 3px 1px rgba(0, 0, 0, 0.15);\n",
              "    filter: drop-shadow(0px 1px 2px rgba(0, 0, 0, 0.3));\n",
              "    fill: #FFFFFF;\n",
              "  }\n",
              "</style>\n",
              "\n",
              "    <script>\n",
              "      async function quickchart(key) {\n",
              "        const containerElement = document.querySelector('#' + key);\n",
              "        const charts = await google.colab.kernel.invokeFunction(\n",
              "            'suggestCharts', [key], {});\n",
              "      }\n",
              "    </script>\n",
              "\n",
              "      <script>\n",
              "\n",
              "function displayQuickchartButton(domScope) {\n",
              "  let quickchartButtonEl =\n",
              "    domScope.querySelector('#df-563b3f7e-319b-4883-8bea-5b47c2963c48 button.colab-df-quickchart');\n",
              "  quickchartButtonEl.style.display =\n",
              "    google.colab.kernel.accessAllowed ? 'block' : 'none';\n",
              "}\n",
              "\n",
              "        displayQuickchartButton(document);\n",
              "      </script>\n",
              "      <style>\n",
              "    .colab-df-container {\n",
              "      display:flex;\n",
              "      flex-wrap:wrap;\n",
              "      gap: 12px;\n",
              "    }\n",
              "\n",
              "    .colab-df-convert {\n",
              "      background-color: #E8F0FE;\n",
              "      border: none;\n",
              "      border-radius: 50%;\n",
              "      cursor: pointer;\n",
              "      display: none;\n",
              "      fill: #1967D2;\n",
              "      height: 32px;\n",
              "      padding: 0 0 0 0;\n",
              "      width: 32px;\n",
              "    }\n",
              "\n",
              "    .colab-df-convert:hover {\n",
              "      background-color: #E2EBFA;\n",
              "      box-shadow: 0px 1px 2px rgba(60, 64, 67, 0.3), 0px 1px 3px 1px rgba(60, 64, 67, 0.15);\n",
              "      fill: #174EA6;\n",
              "    }\n",
              "\n",
              "    [theme=dark] .colab-df-convert {\n",
              "      background-color: #3B4455;\n",
              "      fill: #D2E3FC;\n",
              "    }\n",
              "\n",
              "    [theme=dark] .colab-df-convert:hover {\n",
              "      background-color: #434B5C;\n",
              "      box-shadow: 0px 1px 3px 1px rgba(0, 0, 0, 0.15);\n",
              "      filter: drop-shadow(0px 1px 2px rgba(0, 0, 0, 0.3));\n",
              "      fill: #FFFFFF;\n",
              "    }\n",
              "  </style>\n",
              "\n",
              "      <script>\n",
              "        const buttonEl =\n",
              "          document.querySelector('#df-a74bfc68-0217-4c4e-afbe-ccede4ee4079 button.colab-df-convert');\n",
              "        buttonEl.style.display =\n",
              "          google.colab.kernel.accessAllowed ? 'block' : 'none';\n",
              "\n",
              "        async function convertToInteractive(key) {\n",
              "          const element = document.querySelector('#df-a74bfc68-0217-4c4e-afbe-ccede4ee4079');\n",
              "          const dataTable =\n",
              "            await google.colab.kernel.invokeFunction('convertToInteractive',\n",
              "                                                     [key], {});\n",
              "          if (!dataTable) return;\n",
              "\n",
              "          const docLinkHtml = 'Like what you see? Visit the ' +\n",
              "            '<a target=\"_blank\" href=https://colab.research.google.com/notebooks/data_table.ipynb>data table notebook</a>'\n",
              "            + ' to learn more about interactive tables.';\n",
              "          element.innerHTML = '';\n",
              "          dataTable['output_type'] = 'display_data';\n",
              "          await google.colab.output.renderOutput(dataTable, element);\n",
              "          const docLink = document.createElement('div');\n",
              "          docLink.innerHTML = docLinkHtml;\n",
              "          element.appendChild(docLink);\n",
              "        }\n",
              "      </script>\n",
              "    </div>\n",
              "  </div>\n"
            ]
          },
          "metadata": {},
          "execution_count": 202
        }
      ]
    },
    {
      "cell_type": "markdown",
      "id": "abc6bbaf",
      "metadata": {
        "id": "abc6bbaf"
      },
      "source": [
        "ข้อมูลมีค่าว่างไหม"
      ]
    },
    {
      "cell_type": "code",
      "execution_count": 203,
      "id": "edd3ac3c",
      "metadata": {
        "id": "edd3ac3c",
        "colab": {
          "base_uri": "https://localhost:8080/"
        },
        "outputId": "47110b50-b913-4dcd-e1c8-602cfefe9f5d"
      },
      "outputs": [
        {
          "output_type": "execute_result",
          "data": {
            "text/plain": [
              "No              0\n",
              "GENDER          0\n",
              "AGE             0\n",
              "EDUCATION       0\n",
              "CAREER          0\n",
              "SALARY          3\n",
              "INTERNET_PAY    0\n",
              "PLACE           1\n",
              "TIME            0\n",
              "HOUR            2\n",
              "KNOWN           0\n",
              "APPLICATIONS    0\n",
              "TYPE            2\n",
              "(F1)            0\n",
              "(F2)            0\n",
              "(F3)            0\n",
              "(F4)            0\n",
              "(F5)            0\n",
              "(O1)            0\n",
              "(O2)            0\n",
              "(O3)            0\n",
              "dtype: int64"
            ]
          },
          "metadata": {},
          "execution_count": 203
        }
      ],
      "source": [
        "Data_Facebook.isnull().sum()"
      ]
    },
    {
      "cell_type": "code",
      "source": [
        "Data_Facebook.shape"
      ],
      "metadata": {
        "colab": {
          "base_uri": "https://localhost:8080/"
        },
        "id": "mRGyEV5HRet3",
        "outputId": "85f6acc2-dd36-4c77-9956-68822f9ccdf0"
      },
      "id": "mRGyEV5HRet3",
      "execution_count": 167,
      "outputs": [
        {
          "output_type": "execute_result",
          "data": {
            "text/plain": [
              "(200, 21)"
            ]
          },
          "metadata": {},
          "execution_count": 167
        }
      ]
    },
    {
      "cell_type": "markdown",
      "id": "e2c7f8b3",
      "metadata": {
        "id": "e2c7f8b3"
      },
      "source": [
        "สร้างข้อมูลใหม่ โดยนำคอลัมน์ที่มีค่าสูญหายออกให้หมด"
      ]
    },
    {
      "cell_type": "code",
      "execution_count": null,
      "id": "180b0434",
      "metadata": {
        "id": "180b0434"
      },
      "outputs": [],
      "source": [
        "Data_Facebook_1 = Data_Facebook.dropna(axis=1)\n",
        "print(Data_Facebook_1)"
      ]
    },
    {
      "cell_type": "code",
      "source": [
        "Data_Facebook_1.shape"
      ],
      "metadata": {
        "colab": {
          "base_uri": "https://localhost:8080/"
        },
        "id": "tTqHOSVRRkr_",
        "outputId": "003f6879-c0c1-44fe-d195-49f4d961d0cf"
      },
      "id": "tTqHOSVRRkr_",
      "execution_count": 169,
      "outputs": [
        {
          "output_type": "execute_result",
          "data": {
            "text/plain": [
              "(200, 17)"
            ]
          },
          "metadata": {},
          "execution_count": 169
        }
      ]
    },
    {
      "cell_type": "markdown",
      "id": "03927e3c",
      "metadata": {
        "id": "03927e3c"
      },
      "source": [
        "สร้างข้อมูลใหม่ โดยนำแถวที่มีค่าสูญหายออกให้หมด"
      ]
    },
    {
      "cell_type": "code",
      "execution_count": null,
      "id": "cb73d763",
      "metadata": {
        "id": "cb73d763"
      },
      "outputs": [],
      "source": [
        "Data_Facebook_2 = Data_Facebook.dropna()\n",
        "print(Data_Facebook_2)"
      ]
    },
    {
      "cell_type": "code",
      "source": [
        "Data_Facebook_2.shape"
      ],
      "metadata": {
        "colab": {
          "base_uri": "https://localhost:8080/"
        },
        "id": "cb1Bhm5lRs1c",
        "outputId": "41752b11-6d6d-4fbc-f561-c24aa83ed681"
      },
      "id": "cb1Bhm5lRs1c",
      "execution_count": 171,
      "outputs": [
        {
          "output_type": "execute_result",
          "data": {
            "text/plain": [
              "(192, 21)"
            ]
          },
          "metadata": {},
          "execution_count": 171
        }
      ]
    },
    {
      "cell_type": "markdown",
      "id": "18d7895e",
      "metadata": {
        "id": "18d7895e"
      },
      "source": [
        "จากข้อมูลตั้งต้น ให้เติมค่าว่างด้วย Mean, Median, หรือ Mode ของแต่ละคอลัมน์ตามความเหมาะสม"
      ]
    },
    {
      "cell_type": "code",
      "execution_count": 204,
      "id": "b8471061",
      "metadata": {
        "id": "b8471061"
      },
      "outputs": [],
      "source": [
        "# เติมค่าว่างด้วยค่าเฉลี่ย (mean)\n",
        "#Data_Facebook_mean = Data_Facebook.fillna(Data_Facebook.mean())\n",
        "\n",
        "# เติมค่าว่างด้วยมัธยฐาน (median)\n",
        "#Data_Facebook_median = Data_Facebook.fillna(Data_Facebook.median())\n",
        "\n",
        "# เติมค่าว่างด้วยฐานนิยม (mode)\n",
        "#Data_Facebook_mode = Data_Facebook.fillna(Data_Facebook.mode().iloc[0])\n",
        "\n",
        "Data_Facebook[['SALARY']] = Data_Facebook[['SALARY']].fillna(Data_Facebook['SALARY'].mean)\n",
        "Data_Facebook[['PLACE']] = Data_Facebook[['PLACE']].fillna(Data_Facebook[['PLACE']].mode().iloc[0,0])\n",
        "Data_Facebook[['HOUR']] = Data_Facebook[['HOUR']].fillna(Data_Facebook[['HOUR']].mode().iloc[0,0])\n",
        "Data_Facebook[['TYPE']] = Data_Facebook[['TYPE']].fillna(Data_Facebook[['TYPE']].mode().iloc[0,0])\n"
      ]
    },
    {
      "cell_type": "code",
      "source": [
        "Data_Facebook.isnull().sum()"
      ],
      "metadata": {
        "colab": {
          "base_uri": "https://localhost:8080/"
        },
        "id": "Ky6-M6oyc_DO",
        "outputId": "698c20fc-00da-4fb2-8506-dac93178327c"
      },
      "id": "Ky6-M6oyc_DO",
      "execution_count": 205,
      "outputs": [
        {
          "output_type": "execute_result",
          "data": {
            "text/plain": [
              "No              0\n",
              "GENDER          0\n",
              "AGE             0\n",
              "EDUCATION       0\n",
              "CAREER          0\n",
              "SALARY          0\n",
              "INTERNET_PAY    0\n",
              "PLACE           0\n",
              "TIME            0\n",
              "HOUR            0\n",
              "KNOWN           0\n",
              "APPLICATIONS    0\n",
              "TYPE            0\n",
              "(F1)            0\n",
              "(F2)            0\n",
              "(F3)            0\n",
              "(F4)            0\n",
              "(F5)            0\n",
              "(O1)            0\n",
              "(O2)            0\n",
              "(O3)            0\n",
              "dtype: int64"
            ]
          },
          "metadata": {},
          "execution_count": 205
        }
      ]
    },
    {
      "cell_type": "markdown",
      "id": "d5907b58",
      "metadata": {
        "id": "d5907b58"
      },
      "source": [
        "จากข้อมูลที่เติมค่าสูญหายเรียบร้อยแล้ว ให้สร้างข้อมูลใหม่ที่ทำการลงรหัสของ Factor (F1 - F5) และ Objective (O1 - O3) ทั้งหมด ตาม Sheet คู่มือลงรหัส"
      ]
    },
    {
      "cell_type": "code",
      "source": [
        "fo_mapping = {\n",
        "    'สำคัญน้อยที่สุด': '1',\n",
        "    'สำคัญน้อย': '2',\n",
        "    'ปานกลาง': '3',\n",
        "    'สำคัญมาก': '4',\n",
        "    'สำคัญมากที่สุด': '5'\n",
        "}\n",
        "Data_Facebook['F1'] = Data_Facebook['(F1)'].map(fo_mapping)\n",
        "Data_Facebook['F2'] = Data_Facebook['(F2)'].map(fo_mapping)\n",
        "Data_Facebook['F3'] = Data_Facebook['(F3)'].map(fo_mapping)\n",
        "Data_Facebook['F4'] = Data_Facebook['(F4)'].map(fo_mapping)\n",
        "Data_Facebook['F5'] = Data_Facebook['(F5)'].map(fo_mapping)\n",
        "Data_Facebook['O1'] = Data_Facebook['(O1)'].map(fo_mapping)\n",
        "Data_Facebook['O2'] = Data_Facebook['(O2)'].map(fo_mapping)\n",
        "Data_Facebook['O3'] = Data_Facebook['(O3)'].map(fo_mapping)\n"
      ],
      "metadata": {
        "id": "qjEJfDE3rzLJ"
      },
      "id": "qjEJfDE3rzLJ",
      "execution_count": 206,
      "outputs": []
    },
    {
      "cell_type": "code",
      "source": [
        "pd.DataFrame(Data_Facebook)"
      ],
      "metadata": {
        "colab": {
          "base_uri": "https://localhost:8080/",
          "height": 641
        },
        "id": "WuCnHUgJs04r",
        "outputId": "52fedcd6-812a-4b39-bac7-85de6cb6f61a"
      },
      "id": "WuCnHUgJs04r",
      "execution_count": 207,
      "outputs": [
        {
          "output_type": "execute_result",
          "data": {
            "text/plain": [
              "      No GENDER  AGE               EDUCATION                 CAREER   SALARY  \\\n",
              "0      1   หญิง   23               ปริญญาตรี     พนักงานบริษัทเอกชน  20000.0   \n",
              "1      2   หญิง   22               ปริญญาตรี  ข้าราชการ/รัฐวิสาหกิจ  16000.0   \n",
              "2      3    ชาย   25               ปริญญาตรี     พนักงานบริษัทเอกชน  18000.0   \n",
              "3      4   หญิง   21  มัธยมปลายหรือเทียบเท่า  ข้าราชการ/รัฐวิสาหกิจ  14000.0   \n",
              "4      5    ชาย   18  มัธยมปลายหรือเทียบเท่า      นักเรียน/นักศึกษา  10000.0   \n",
              "..   ...    ...  ...                     ...                    ...      ...   \n",
              "195  196    ชาย   25               ปริญญาตรี     พนักงานบริษัทเอกชน  20000.0   \n",
              "196  197   หญิง   24               ปริญญาตรี     พนักงานบริษัทเอกชน  18000.0   \n",
              "197  198    ชาย   17  มัธยมปลายหรือเทียบเท่า      นักเรียน/นักศึกษา  10000.0   \n",
              "198  199    ชาย   25               ปริญญาตรี     พนักงานบริษัทเอกชน  20000.0   \n",
              "199  200   หญิง   25               ปริญญาตรี     พนักงานบริษัทเอกชน  20000.0   \n",
              "\n",
              "     INTERNET_PAY                         PLACE               TIME  \\\n",
              "0             590                    บ้าน/หอพัก  4 - 6 วัน/สัปดาห์   \n",
              "1             500                    บ้าน/หอพัก             ทุกวัน   \n",
              "2             590  สถานที่ให้บริการอินเตอร์เน็ต  2 - 3 วัน/สัปดาห์   \n",
              "3             500                    บ้าน/หอพัก             ทุกวัน   \n",
              "4             650                    บ้าน/หอพัก             ทุกวัน   \n",
              "..            ...                           ...                ...   \n",
              "195           590                    บ้าน/หอพัก  2 - 3 วัน/สัปดาห์   \n",
              "196           500                    บ้าน/หอพัก  4 - 6 วัน/สัปดาห์   \n",
              "197           590                    บ้าน/หอพัก             ทุกวัน   \n",
              "198           650                    บ้าน/หอพัก             ทุกวัน   \n",
              "199           590                    บ้าน/หอพัก             ทุกวัน   \n",
              "\n",
              "                  HOUR  ...            (O2)             (O3) F1 F2 F3 F4 F5  \\\n",
              "0       3 - 4 ชม. /วัน  ...        สำคัญมาก  สำคัญน้อยที่สุด  4  3  3  3  5   \n",
              "1    มากกว่า 4 ชม./วัน  ...  สำคัญมากที่สุด        สำคัญน้อย  5  4  3  3  5   \n",
              "2       3 - 4 ชม. /วัน  ...         ปานกลาง  สำคัญน้อยที่สุด  4  3  1  2  4   \n",
              "3    มากกว่า 4 ชม./วัน  ...  สำคัญมากที่สุด          ปานกลาง  5  3  5  4  5   \n",
              "4    มากกว่า 4 ชม./วัน  ...  สำคัญมากที่สุด          ปานกลาง  5  3  4  4  5   \n",
              "..                 ...  ...             ...              ... .. .. .. .. ..   \n",
              "195     3 - 4 ชม. /วัน  ...        สำคัญมาก         สำคัญมาก  5  4  4  3  5   \n",
              "196     3 - 4 ชม. /วัน  ...  สำคัญมากที่สุด         สำคัญมาก  5  4  4  1  5   \n",
              "197  มากกว่า 4 ชม./วัน  ...  สำคัญมากที่สุด         สำคัญมาก  5  3  4  4  5   \n",
              "198  มากกว่า 4 ชม./วัน  ...  สำคัญมากที่สุด   สำคัญมากที่สุด  5  3  3  4  5   \n",
              "199     1 - 2 ชม. /วัน  ...         ปานกลาง  สำคัญน้อยที่สุด  5  3  3  3  5   \n",
              "\n",
              "    O1 O2 O3  \n",
              "0    5  4  1  \n",
              "1    5  5  2  \n",
              "2    5  3  1  \n",
              "3    5  5  3  \n",
              "4    5  5  3  \n",
              "..  .. .. ..  \n",
              "195  5  4  4  \n",
              "196  5  5  4  \n",
              "197  5  5  4  \n",
              "198  5  5  5  \n",
              "199  5  3  1  \n",
              "\n",
              "[200 rows x 29 columns]"
            ],
            "text/html": [
              "\n",
              "\n",
              "  <div id=\"df-7d4e3458-bc01-4293-9199-a4858ed7de0f\">\n",
              "    <div class=\"colab-df-container\">\n",
              "      <div>\n",
              "<style scoped>\n",
              "    .dataframe tbody tr th:only-of-type {\n",
              "        vertical-align: middle;\n",
              "    }\n",
              "\n",
              "    .dataframe tbody tr th {\n",
              "        vertical-align: top;\n",
              "    }\n",
              "\n",
              "    .dataframe thead th {\n",
              "        text-align: right;\n",
              "    }\n",
              "</style>\n",
              "<table border=\"1\" class=\"dataframe\">\n",
              "  <thead>\n",
              "    <tr style=\"text-align: right;\">\n",
              "      <th></th>\n",
              "      <th>No</th>\n",
              "      <th>GENDER</th>\n",
              "      <th>AGE</th>\n",
              "      <th>EDUCATION</th>\n",
              "      <th>CAREER</th>\n",
              "      <th>SALARY</th>\n",
              "      <th>INTERNET_PAY</th>\n",
              "      <th>PLACE</th>\n",
              "      <th>TIME</th>\n",
              "      <th>HOUR</th>\n",
              "      <th>...</th>\n",
              "      <th>(O2)</th>\n",
              "      <th>(O3)</th>\n",
              "      <th>F1</th>\n",
              "      <th>F2</th>\n",
              "      <th>F3</th>\n",
              "      <th>F4</th>\n",
              "      <th>F5</th>\n",
              "      <th>O1</th>\n",
              "      <th>O2</th>\n",
              "      <th>O3</th>\n",
              "    </tr>\n",
              "  </thead>\n",
              "  <tbody>\n",
              "    <tr>\n",
              "      <th>0</th>\n",
              "      <td>1</td>\n",
              "      <td>หญิง</td>\n",
              "      <td>23</td>\n",
              "      <td>ปริญญาตรี</td>\n",
              "      <td>พนักงานบริษัทเอกชน</td>\n",
              "      <td>20000.0</td>\n",
              "      <td>590</td>\n",
              "      <td>บ้าน/หอพัก</td>\n",
              "      <td>4 - 6 วัน/สัปดาห์</td>\n",
              "      <td>3 - 4 ชม. /วัน</td>\n",
              "      <td>...</td>\n",
              "      <td>สำคัญมาก</td>\n",
              "      <td>สำคัญน้อยที่สุด</td>\n",
              "      <td>4</td>\n",
              "      <td>3</td>\n",
              "      <td>3</td>\n",
              "      <td>3</td>\n",
              "      <td>5</td>\n",
              "      <td>5</td>\n",
              "      <td>4</td>\n",
              "      <td>1</td>\n",
              "    </tr>\n",
              "    <tr>\n",
              "      <th>1</th>\n",
              "      <td>2</td>\n",
              "      <td>หญิง</td>\n",
              "      <td>22</td>\n",
              "      <td>ปริญญาตรี</td>\n",
              "      <td>ข้าราชการ/รัฐวิสาหกิจ</td>\n",
              "      <td>16000.0</td>\n",
              "      <td>500</td>\n",
              "      <td>บ้าน/หอพัก</td>\n",
              "      <td>ทุกวัน</td>\n",
              "      <td>มากกว่า 4 ชม./วัน</td>\n",
              "      <td>...</td>\n",
              "      <td>สำคัญมากที่สุด</td>\n",
              "      <td>สำคัญน้อย</td>\n",
              "      <td>5</td>\n",
              "      <td>4</td>\n",
              "      <td>3</td>\n",
              "      <td>3</td>\n",
              "      <td>5</td>\n",
              "      <td>5</td>\n",
              "      <td>5</td>\n",
              "      <td>2</td>\n",
              "    </tr>\n",
              "    <tr>\n",
              "      <th>2</th>\n",
              "      <td>3</td>\n",
              "      <td>ชาย</td>\n",
              "      <td>25</td>\n",
              "      <td>ปริญญาตรี</td>\n",
              "      <td>พนักงานบริษัทเอกชน</td>\n",
              "      <td>18000.0</td>\n",
              "      <td>590</td>\n",
              "      <td>สถานที่ให้บริการอินเตอร์เน็ต</td>\n",
              "      <td>2 - 3 วัน/สัปดาห์</td>\n",
              "      <td>3 - 4 ชม. /วัน</td>\n",
              "      <td>...</td>\n",
              "      <td>ปานกลาง</td>\n",
              "      <td>สำคัญน้อยที่สุด</td>\n",
              "      <td>4</td>\n",
              "      <td>3</td>\n",
              "      <td>1</td>\n",
              "      <td>2</td>\n",
              "      <td>4</td>\n",
              "      <td>5</td>\n",
              "      <td>3</td>\n",
              "      <td>1</td>\n",
              "    </tr>\n",
              "    <tr>\n",
              "      <th>3</th>\n",
              "      <td>4</td>\n",
              "      <td>หญิง</td>\n",
              "      <td>21</td>\n",
              "      <td>มัธยมปลายหรือเทียบเท่า</td>\n",
              "      <td>ข้าราชการ/รัฐวิสาหกิจ</td>\n",
              "      <td>14000.0</td>\n",
              "      <td>500</td>\n",
              "      <td>บ้าน/หอพัก</td>\n",
              "      <td>ทุกวัน</td>\n",
              "      <td>มากกว่า 4 ชม./วัน</td>\n",
              "      <td>...</td>\n",
              "      <td>สำคัญมากที่สุด</td>\n",
              "      <td>ปานกลาง</td>\n",
              "      <td>5</td>\n",
              "      <td>3</td>\n",
              "      <td>5</td>\n",
              "      <td>4</td>\n",
              "      <td>5</td>\n",
              "      <td>5</td>\n",
              "      <td>5</td>\n",
              "      <td>3</td>\n",
              "    </tr>\n",
              "    <tr>\n",
              "      <th>4</th>\n",
              "      <td>5</td>\n",
              "      <td>ชาย</td>\n",
              "      <td>18</td>\n",
              "      <td>มัธยมปลายหรือเทียบเท่า</td>\n",
              "      <td>นักเรียน/นักศึกษา</td>\n",
              "      <td>10000.0</td>\n",
              "      <td>650</td>\n",
              "      <td>บ้าน/หอพัก</td>\n",
              "      <td>ทุกวัน</td>\n",
              "      <td>มากกว่า 4 ชม./วัน</td>\n",
              "      <td>...</td>\n",
              "      <td>สำคัญมากที่สุด</td>\n",
              "      <td>ปานกลาง</td>\n",
              "      <td>5</td>\n",
              "      <td>3</td>\n",
              "      <td>4</td>\n",
              "      <td>4</td>\n",
              "      <td>5</td>\n",
              "      <td>5</td>\n",
              "      <td>5</td>\n",
              "      <td>3</td>\n",
              "    </tr>\n",
              "    <tr>\n",
              "      <th>...</th>\n",
              "      <td>...</td>\n",
              "      <td>...</td>\n",
              "      <td>...</td>\n",
              "      <td>...</td>\n",
              "      <td>...</td>\n",
              "      <td>...</td>\n",
              "      <td>...</td>\n",
              "      <td>...</td>\n",
              "      <td>...</td>\n",
              "      <td>...</td>\n",
              "      <td>...</td>\n",
              "      <td>...</td>\n",
              "      <td>...</td>\n",
              "      <td>...</td>\n",
              "      <td>...</td>\n",
              "      <td>...</td>\n",
              "      <td>...</td>\n",
              "      <td>...</td>\n",
              "      <td>...</td>\n",
              "      <td>...</td>\n",
              "      <td>...</td>\n",
              "    </tr>\n",
              "    <tr>\n",
              "      <th>195</th>\n",
              "      <td>196</td>\n",
              "      <td>ชาย</td>\n",
              "      <td>25</td>\n",
              "      <td>ปริญญาตรี</td>\n",
              "      <td>พนักงานบริษัทเอกชน</td>\n",
              "      <td>20000.0</td>\n",
              "      <td>590</td>\n",
              "      <td>บ้าน/หอพัก</td>\n",
              "      <td>2 - 3 วัน/สัปดาห์</td>\n",
              "      <td>3 - 4 ชม. /วัน</td>\n",
              "      <td>...</td>\n",
              "      <td>สำคัญมาก</td>\n",
              "      <td>สำคัญมาก</td>\n",
              "      <td>5</td>\n",
              "      <td>4</td>\n",
              "      <td>4</td>\n",
              "      <td>3</td>\n",
              "      <td>5</td>\n",
              "      <td>5</td>\n",
              "      <td>4</td>\n",
              "      <td>4</td>\n",
              "    </tr>\n",
              "    <tr>\n",
              "      <th>196</th>\n",
              "      <td>197</td>\n",
              "      <td>หญิง</td>\n",
              "      <td>24</td>\n",
              "      <td>ปริญญาตรี</td>\n",
              "      <td>พนักงานบริษัทเอกชน</td>\n",
              "      <td>18000.0</td>\n",
              "      <td>500</td>\n",
              "      <td>บ้าน/หอพัก</td>\n",
              "      <td>4 - 6 วัน/สัปดาห์</td>\n",
              "      <td>3 - 4 ชม. /วัน</td>\n",
              "      <td>...</td>\n",
              "      <td>สำคัญมากที่สุด</td>\n",
              "      <td>สำคัญมาก</td>\n",
              "      <td>5</td>\n",
              "      <td>4</td>\n",
              "      <td>4</td>\n",
              "      <td>1</td>\n",
              "      <td>5</td>\n",
              "      <td>5</td>\n",
              "      <td>5</td>\n",
              "      <td>4</td>\n",
              "    </tr>\n",
              "    <tr>\n",
              "      <th>197</th>\n",
              "      <td>198</td>\n",
              "      <td>ชาย</td>\n",
              "      <td>17</td>\n",
              "      <td>มัธยมปลายหรือเทียบเท่า</td>\n",
              "      <td>นักเรียน/นักศึกษา</td>\n",
              "      <td>10000.0</td>\n",
              "      <td>590</td>\n",
              "      <td>บ้าน/หอพัก</td>\n",
              "      <td>ทุกวัน</td>\n",
              "      <td>มากกว่า 4 ชม./วัน</td>\n",
              "      <td>...</td>\n",
              "      <td>สำคัญมากที่สุด</td>\n",
              "      <td>สำคัญมาก</td>\n",
              "      <td>5</td>\n",
              "      <td>3</td>\n",
              "      <td>4</td>\n",
              "      <td>4</td>\n",
              "      <td>5</td>\n",
              "      <td>5</td>\n",
              "      <td>5</td>\n",
              "      <td>4</td>\n",
              "    </tr>\n",
              "    <tr>\n",
              "      <th>198</th>\n",
              "      <td>199</td>\n",
              "      <td>ชาย</td>\n",
              "      <td>25</td>\n",
              "      <td>ปริญญาตรี</td>\n",
              "      <td>พนักงานบริษัทเอกชน</td>\n",
              "      <td>20000.0</td>\n",
              "      <td>650</td>\n",
              "      <td>บ้าน/หอพัก</td>\n",
              "      <td>ทุกวัน</td>\n",
              "      <td>มากกว่า 4 ชม./วัน</td>\n",
              "      <td>...</td>\n",
              "      <td>สำคัญมากที่สุด</td>\n",
              "      <td>สำคัญมากที่สุด</td>\n",
              "      <td>5</td>\n",
              "      <td>3</td>\n",
              "      <td>3</td>\n",
              "      <td>4</td>\n",
              "      <td>5</td>\n",
              "      <td>5</td>\n",
              "      <td>5</td>\n",
              "      <td>5</td>\n",
              "    </tr>\n",
              "    <tr>\n",
              "      <th>199</th>\n",
              "      <td>200</td>\n",
              "      <td>หญิง</td>\n",
              "      <td>25</td>\n",
              "      <td>ปริญญาตรี</td>\n",
              "      <td>พนักงานบริษัทเอกชน</td>\n",
              "      <td>20000.0</td>\n",
              "      <td>590</td>\n",
              "      <td>บ้าน/หอพัก</td>\n",
              "      <td>ทุกวัน</td>\n",
              "      <td>1 - 2 ชม. /วัน</td>\n",
              "      <td>...</td>\n",
              "      <td>ปานกลาง</td>\n",
              "      <td>สำคัญน้อยที่สุด</td>\n",
              "      <td>5</td>\n",
              "      <td>3</td>\n",
              "      <td>3</td>\n",
              "      <td>3</td>\n",
              "      <td>5</td>\n",
              "      <td>5</td>\n",
              "      <td>3</td>\n",
              "      <td>1</td>\n",
              "    </tr>\n",
              "  </tbody>\n",
              "</table>\n",
              "<p>200 rows × 29 columns</p>\n",
              "</div>\n",
              "      <button class=\"colab-df-convert\" onclick=\"convertToInteractive('df-7d4e3458-bc01-4293-9199-a4858ed7de0f')\"\n",
              "              title=\"Convert this dataframe to an interactive table.\"\n",
              "              style=\"display:none;\">\n",
              "\n",
              "  <svg xmlns=\"http://www.w3.org/2000/svg\" height=\"24px\"viewBox=\"0 0 24 24\"\n",
              "       width=\"24px\">\n",
              "    <path d=\"M0 0h24v24H0V0z\" fill=\"none\"/>\n",
              "    <path d=\"M18.56 5.44l.94 2.06.94-2.06 2.06-.94-2.06-.94-.94-2.06-.94 2.06-2.06.94zm-11 1L8.5 8.5l.94-2.06 2.06-.94-2.06-.94L8.5 2.5l-.94 2.06-2.06.94zm10 10l.94 2.06.94-2.06 2.06-.94-2.06-.94-.94-2.06-.94 2.06-2.06.94z\"/><path d=\"M17.41 7.96l-1.37-1.37c-.4-.4-.92-.59-1.43-.59-.52 0-1.04.2-1.43.59L10.3 9.45l-7.72 7.72c-.78.78-.78 2.05 0 2.83L4 21.41c.39.39.9.59 1.41.59.51 0 1.02-.2 1.41-.59l7.78-7.78 2.81-2.81c.8-.78.8-2.07 0-2.86zM5.41 20L4 18.59l7.72-7.72 1.47 1.35L5.41 20z\"/>\n",
              "  </svg>\n",
              "      </button>\n",
              "\n",
              "\n",
              "\n",
              "    <div id=\"df-6b1c684f-c129-49e0-ba65-c4e1e6164ef3\">\n",
              "      <button class=\"colab-df-quickchart\" onclick=\"quickchart('df-6b1c684f-c129-49e0-ba65-c4e1e6164ef3')\"\n",
              "              title=\"Suggest charts.\"\n",
              "              style=\"display:none;\">\n",
              "\n",
              "<svg xmlns=\"http://www.w3.org/2000/svg\" height=\"24px\"viewBox=\"0 0 24 24\"\n",
              "     width=\"24px\">\n",
              "    <g>\n",
              "        <path d=\"M19 3H5c-1.1 0-2 .9-2 2v14c0 1.1.9 2 2 2h14c1.1 0 2-.9 2-2V5c0-1.1-.9-2-2-2zM9 17H7v-7h2v7zm4 0h-2V7h2v10zm4 0h-2v-4h2v4z\"/>\n",
              "    </g>\n",
              "</svg>\n",
              "      </button>\n",
              "    </div>\n",
              "\n",
              "<style>\n",
              "  .colab-df-quickchart {\n",
              "    background-color: #E8F0FE;\n",
              "    border: none;\n",
              "    border-radius: 50%;\n",
              "    cursor: pointer;\n",
              "    display: none;\n",
              "    fill: #1967D2;\n",
              "    height: 32px;\n",
              "    padding: 0 0 0 0;\n",
              "    width: 32px;\n",
              "  }\n",
              "\n",
              "  .colab-df-quickchart:hover {\n",
              "    background-color: #E2EBFA;\n",
              "    box-shadow: 0px 1px 2px rgba(60, 64, 67, 0.3), 0px 1px 3px 1px rgba(60, 64, 67, 0.15);\n",
              "    fill: #174EA6;\n",
              "  }\n",
              "\n",
              "  [theme=dark] .colab-df-quickchart {\n",
              "    background-color: #3B4455;\n",
              "    fill: #D2E3FC;\n",
              "  }\n",
              "\n",
              "  [theme=dark] .colab-df-quickchart:hover {\n",
              "    background-color: #434B5C;\n",
              "    box-shadow: 0px 1px 3px 1px rgba(0, 0, 0, 0.15);\n",
              "    filter: drop-shadow(0px 1px 2px rgba(0, 0, 0, 0.3));\n",
              "    fill: #FFFFFF;\n",
              "  }\n",
              "</style>\n",
              "\n",
              "    <script>\n",
              "      async function quickchart(key) {\n",
              "        const containerElement = document.querySelector('#' + key);\n",
              "        const charts = await google.colab.kernel.invokeFunction(\n",
              "            'suggestCharts', [key], {});\n",
              "      }\n",
              "    </script>\n",
              "\n",
              "      <script>\n",
              "\n",
              "function displayQuickchartButton(domScope) {\n",
              "  let quickchartButtonEl =\n",
              "    domScope.querySelector('#df-6b1c684f-c129-49e0-ba65-c4e1e6164ef3 button.colab-df-quickchart');\n",
              "  quickchartButtonEl.style.display =\n",
              "    google.colab.kernel.accessAllowed ? 'block' : 'none';\n",
              "}\n",
              "\n",
              "        displayQuickchartButton(document);\n",
              "      </script>\n",
              "      <style>\n",
              "    .colab-df-container {\n",
              "      display:flex;\n",
              "      flex-wrap:wrap;\n",
              "      gap: 12px;\n",
              "    }\n",
              "\n",
              "    .colab-df-convert {\n",
              "      background-color: #E8F0FE;\n",
              "      border: none;\n",
              "      border-radius: 50%;\n",
              "      cursor: pointer;\n",
              "      display: none;\n",
              "      fill: #1967D2;\n",
              "      height: 32px;\n",
              "      padding: 0 0 0 0;\n",
              "      width: 32px;\n",
              "    }\n",
              "\n",
              "    .colab-df-convert:hover {\n",
              "      background-color: #E2EBFA;\n",
              "      box-shadow: 0px 1px 2px rgba(60, 64, 67, 0.3), 0px 1px 3px 1px rgba(60, 64, 67, 0.15);\n",
              "      fill: #174EA6;\n",
              "    }\n",
              "\n",
              "    [theme=dark] .colab-df-convert {\n",
              "      background-color: #3B4455;\n",
              "      fill: #D2E3FC;\n",
              "    }\n",
              "\n",
              "    [theme=dark] .colab-df-convert:hover {\n",
              "      background-color: #434B5C;\n",
              "      box-shadow: 0px 1px 3px 1px rgba(0, 0, 0, 0.15);\n",
              "      filter: drop-shadow(0px 1px 2px rgba(0, 0, 0, 0.3));\n",
              "      fill: #FFFFFF;\n",
              "    }\n",
              "  </style>\n",
              "\n",
              "      <script>\n",
              "        const buttonEl =\n",
              "          document.querySelector('#df-7d4e3458-bc01-4293-9199-a4858ed7de0f button.colab-df-convert');\n",
              "        buttonEl.style.display =\n",
              "          google.colab.kernel.accessAllowed ? 'block' : 'none';\n",
              "\n",
              "        async function convertToInteractive(key) {\n",
              "          const element = document.querySelector('#df-7d4e3458-bc01-4293-9199-a4858ed7de0f');\n",
              "          const dataTable =\n",
              "            await google.colab.kernel.invokeFunction('convertToInteractive',\n",
              "                                                     [key], {});\n",
              "          if (!dataTable) return;\n",
              "\n",
              "          const docLinkHtml = 'Like what you see? Visit the ' +\n",
              "            '<a target=\"_blank\" href=https://colab.research.google.com/notebooks/data_table.ipynb>data table notebook</a>'\n",
              "            + ' to learn more about interactive tables.';\n",
              "          element.innerHTML = '';\n",
              "          dataTable['output_type'] = 'display_data';\n",
              "          await google.colab.output.renderOutput(dataTable, element);\n",
              "          const docLink = document.createElement('div');\n",
              "          docLink.innerHTML = docLinkHtml;\n",
              "          element.appendChild(docLink);\n",
              "        }\n",
              "      </script>\n",
              "    </div>\n",
              "  </div>\n"
            ]
          },
          "metadata": {},
          "execution_count": 207
        }
      ]
    },
    {
      "cell_type": "markdown",
      "id": "db52fd4d",
      "metadata": {
        "id": "db52fd4d"
      },
      "source": [
        "จากข้อมูลที่เติมค่าสูญหายเรียบร้อยแล้ว ให้สร้าง plot แสดงความถี่ของตัวแปรเพศของผู้ใช้เฟซบุ๊ค"
      ]
    },
    {
      "cell_type": "code",
      "source": [
        "import matplotlib.pyplot as plt"
      ],
      "metadata": {
        "id": "7JUpMQ2itjP8"
      },
      "id": "7JUpMQ2itjP8",
      "execution_count": 208,
      "outputs": []
    },
    {
      "cell_type": "code",
      "source": [
        "Data_Facebook_counts = Data_Facebook['GENDER'].value_counts()\n",
        "mylables = [\"Man\",\"Women\"]\n",
        "mycolors = [\"Blue\", \"hotpink\"]\n",
        "plt.pie(Data_Facebook_counts, labels  = mylables,  colors = mycolors, autopct='%1.1f%%')\n",
        "plt.show()"
      ],
      "metadata": {
        "colab": {
          "base_uri": "https://localhost:8080/",
          "height": 406
        },
        "id": "rI8UbZM8vnD9",
        "outputId": "9d89cac1-e6aa-452b-83eb-be31bedff3da"
      },
      "id": "rI8UbZM8vnD9",
      "execution_count": 209,
      "outputs": [
        {
          "output_type": "display_data",
          "data": {
            "text/plain": [
              "<Figure size 640x480 with 1 Axes>"
            ],
            "image/png": "[encoded data removed]"
          },
          "metadata": {}
        }
      ]
    },
    {
      "cell_type": "markdown",
      "id": "8f2e8514",
      "metadata": {
        "id": "8f2e8514"
      },
      "source": [
        "จากข้อมูลที่เติมค่าสูญหายเรียบร้อยแล้ว ให้สร้าง box plot แสดงการแจกแจงของตัวแปรอายุของผู้ใช้เฟซบุ๊ค"
      ]
    },
    {
      "cell_type": "code",
      "source": [
        "import pandas as pd\n",
        "import matplotlib.pyplot as plt"
      ],
      "metadata": {
        "id": "zZv93bs-1bQk"
      },
      "id": "zZv93bs-1bQk",
      "execution_count": 210,
      "outputs": []
    },
    {
      "cell_type": "code",
      "source": [
        "Data_Facebook.boxplot(column='AGE')\n",
        "plt.show()"
      ],
      "metadata": {
        "colab": {
          "base_uri": "https://localhost:8080/",
          "height": 430
        },
        "id": "XEaWiuJN1flt",
        "outputId": "c07a60a9-1be2-4d47-d125-61b72ffc4f7d"
      },
      "id": "XEaWiuJN1flt",
      "execution_count": 211,
      "outputs": [
        {
          "output_type": "display_data",
          "data": {
            "text/plain": [
              "<Figure size 640x480 with 1 Axes>"
            ],
            "image/png": "[encoded data removed]"
          },
          "metadata": {}
        }
      ]
    },
    {
      "cell_type": "markdown",
      "id": "25863b47",
      "metadata": {
        "id": "25863b47"
      },
      "source": [
        "จากข้อมูลที่เติมค่าสูญหายเรียบร้อยแล้ว ให้สร้าง bar plot แสดงความถี่ของประเภทการใช้งานแบบต่าง ๆ (TYPE)"
      ]
    },
    {
      "cell_type": "code",
      "source": [
        "Data_Facebook['TYPE'].value_counts()"
      ],
      "metadata": {
        "colab": {
          "base_uri": "https://localhost:8080/"
        },
        "id": "dR1KOYJR3XPo",
        "outputId": "b64a493c-f6c5-441b-a2a9-5772f11c1fc9"
      },
      "id": "dR1KOYJR3XPo",
      "execution_count": 212,
      "outputs": [
        {
          "output_type": "execute_result",
          "data": {
            "text/plain": [
              "การโพสต์ข้อความ/รูปภาพ              161\n",
              "เกมส์ที่เน้นการได้คะแนนสูงสุด        32\n",
              "การส่งของขวัญ                         4\n",
              "เกมส์ที่เน้นการมีเพื่อนมากที่สุด      3\n",
              "Name: TYPE, dtype: int64"
            ]
          },
          "metadata": {},
          "execution_count": 212
        }
      ]
    },
    {
      "cell_type": "code",
      "execution_count": 213,
      "id": "78ce7fe5",
      "metadata": {
        "id": "78ce7fe5",
        "colab": {
          "base_uri": "https://localhost:8080/",
          "height": 629
        },
        "outputId": "e0395c52-249b-4a5f-d393-164fdcb962d3"
      },
      "outputs": [
        {
          "output_type": "display_data",
          "data": {
            "text/plain": [
              "<Figure size 640x480 with 1 Axes>"
            ],
            "image/png": "[encoded data removed]"
          },
          "metadata": {}
        }
      ],
      "source": [
        "Data_Facebook.loc[Data_Facebook['TYPE'] == \"การโพสต์ข้อความ/รูปภาพ\", 'TYPE'] = \"Posting text/images\"\n",
        "Data_Facebook.loc[Data_Facebook['TYPE'] == \"เกมส์ที่เน้นการได้คะแนนสูงสุด\", 'TYPE'] = \"Thehighest score Games\"\n",
        "Data_Facebook.loc[Data_Facebook['TYPE'] == \"การส่งของขวัญ\", 'TYPE'] = \"sending gifts\"\n",
        "Data_Facebook.loc[Data_Facebook['TYPE'] == \"เกมส์ที่เน้นการมีเพื่อนมากที่สุด\", 'TYPE'] = \"the most friends Games\"\n",
        "\n",
        "\n",
        "Data_Facebook['TYPE'].value_counts().plot(kind='bar')\n",
        "plt.xlabel('Type')\n",
        "plt.ylabel('Frequency')\n",
        "plt.title('Frequency of Usage Types')\n",
        "plt.show()"
      ]
    },
    {
      "cell_type": "markdown",
      "id": "4da73332",
      "metadata": {
        "id": "4da73332"
      },
      "source": [
        "จากข้อมูลที่เติมค่าสูญหายเรียบร้อยแล้ว ให้สร้างตารางสรุปค่า Factor และ Objective ทั้งหมด"
      ]
    },
    {
      "cell_type": "code",
      "source": [
        "summary_table = Data_Facebook[['F1','F2','F3','F4','F5','O1','O2','O3']]\n",
        "print(summary_table)"
      ],
      "metadata": {
        "colab": {
          "base_uri": "https://localhost:8080/"
        },
        "id": "dkd36hpGONQr",
        "outputId": "97b3c2bc-60f5-4fb3-93bc-a38c2cb350ba"
      },
      "id": "dkd36hpGONQr",
      "execution_count": 214,
      "outputs": [
        {
          "output_type": "stream",
          "name": "stdout",
          "text": [
            "    F1 F2 F3 F4 F5 O1 O2 O3\n",
            "0    4  3  3  3  5  5  4  1\n",
            "1    5  4  3  3  5  5  5  2\n",
            "2    4  3  1  2  4  5  3  1\n",
            "3    5  3  5  4  5  5  5  3\n",
            "4    5  3  4  4  5  5  5  3\n",
            "..  .. .. .. .. .. .. .. ..\n",
            "195  5  4  4  3  5  5  4  4\n",
            "196  5  4  4  1  5  5  5  4\n",
            "197  5  3  4  4  5  5  5  4\n",
            "198  5  3  3  4  5  5  5  5\n",
            "199  5  3  3  3  5  5  3  1\n",
            "\n",
            "[200 rows x 8 columns]\n"
          ]
        }
      ]
    },
    {
      "cell_type": "markdown",
      "id": "63724c94",
      "metadata": {
        "id": "63724c94"
      },
      "source": [
        "จากข้อมูลที่เติมค่าสูญหายเรียบร้อยแล้ว ให้สร้างตารางสรุปค่า Factor และ Objective ทั้งหมด โดยแบ่งการพิจารณาตามเพศ"
      ]
    },
    {
      "cell_type": "code",
      "execution_count": 215,
      "id": "a78fd31b",
      "metadata": {
        "id": "a78fd31b",
        "colab": {
          "base_uri": "https://localhost:8080/"
        },
        "outputId": "c4a1bf3c-5e1e-461e-a73b-ce41aec8fa22"
      },
      "outputs": [
        {
          "output_type": "stream",
          "name": "stdout",
          "text": [
            "  GENDER            F1                           F2                 \\\n",
            "                  mean median min max          mean median min max   \n",
            "0    ชาย  4.555556e+97    5.0   4   5  3.343445e+97    4.0   3   5   \n",
            "1   หญิง  4.555555e+97    5.0   4   5  3.433343e+97    4.0   3   5   \n",
            "\n",
            "             F3  ...  O1                O2                           O3  \\\n",
            "           mean  ... min max          mean median min max          mean   \n",
            "0  1.444444e+97  ...   4   5  3.555556e+97    5.0   3   5  1.345456e+97   \n",
            "1  3.353434e+97  ...   4   5  4.555555e+97    5.0   3   5  1.232331e+97   \n",
            "\n",
            "                  \n",
            "  median min max  \n",
            "0    4.0   1   5  \n",
            "1    3.0   1   5  \n",
            "\n",
            "[2 rows x 33 columns]\n"
          ]
        }
      ],
      "source": [
        "summary_table1 = Data_Facebook.groupby('GENDER')[['F1', 'F2', 'F3', 'F4', 'F5', 'O1', 'O2', 'O3']].agg(['mean', 'median', 'min', 'max']).reset_index()\n",
        "print(summary_table1)"
      ]
    },
    {
      "cell_type": "markdown",
      "id": "01e86710",
      "metadata": {
        "id": "01e86710"
      },
      "source": [
        "จากข้อมูลที่เติมค่าสูญหายเรียบร้อยแล้ว ให้สร้างตารางสรุปรายได้ของผู้ใช้เฟซบุ๊คตามผู้ที่มีประเภทการใช้งานแบบต่าง ๆ กัน พร้อมทั้งสร้างแผนภาพประกอบให้เข้าใจผลได้ง่ายขึ้น ให้เขียนอธิบายสั้น ๆ จากสิ่งที่พบเห็น"
      ]
    },
    {
      "cell_type": "code",
      "source": [
        "Data_Facebook['TYPE']"
      ],
      "metadata": {
        "colab": {
          "base_uri": "https://localhost:8080/"
        },
        "id": "IedUZ0Gy9BaF",
        "outputId": "ae150ead-8afc-4089-dd77-ff83e0ed69ce"
      },
      "id": "IedUZ0Gy9BaF",
      "execution_count": 242,
      "outputs": [
        {
          "output_type": "execute_result",
          "data": {
            "text/plain": [
              "0         Posting text/images\n",
              "1         Posting text/images\n",
              "2         Posting text/images\n",
              "3      Thehighest score Games\n",
              "4         Posting text/images\n",
              "                ...          \n",
              "195       Posting text/images\n",
              "196       Posting text/images\n",
              "197       Posting text/images\n",
              "198       Posting text/images\n",
              "199       Posting text/images\n",
              "Name: TYPE, Length: 200, dtype: object"
            ]
          },
          "metadata": {},
          "execution_count": 242
        }
      ]
    },
    {
      "cell_type": "code",
      "source": [
        "Data_Facebook['SALARY'] = pd.to_numeric(Data_Facebook['SALARY'], errors='coerce')\n",
        "income_summary = Data_Facebook.groupby('TYPE')['SALARY'].mean().reset_index()\n",
        "\n",
        "mcolr = [\"LightGray\", \"LightGray\",\"#00FF00\", \"LightGray\"]\n",
        "plt.barh(income_summary['TYPE'], income_summary['SALARY'],color=mcolr)\n",
        "plt.xlabel('Average SALARY')\n",
        "plt.ylabel('TYPE')\n",
        "plt.title('The average income of Facebook users by usage type')\n",
        "plt.show()"
      ],
      "metadata": {
        "colab": {
          "base_uri": "https://localhost:8080/",
          "height": 472
        },
        "id": "Y05PzWDu_8AY",
        "outputId": "7e642f78-02e5-4a29-f611-07355df584ce"
      },
      "id": "Y05PzWDu_8AY",
      "execution_count": 268,
      "outputs": [
        {
          "output_type": "display_data",
          "data": {
            "text/plain": [
              "<Figure size 640x480 with 1 Axes>"
            ],
            "image/png": "[encoded data removed]"
          },
          "metadata": {}
        }
      ]
    },
    {
      "cell_type": "markdown",
      "id": "a1ae2f33",
      "metadata": {
        "id": "a1ae2f33"
      },
      "source": [
        "เลือกทำการสร้างตารางและรูปภาพที่สรุปผลจากข้อมูลมาอย่างละ 2 แบบ พร้อมเขียนบรรยายสั้น ๆ หากมีการทำงานร่วมกับเพื่อน ให้ทำออกมาให้ไม่ซ้ำกัน"
      ]
    },
    {
      "cell_type": "code",
      "source": [
        "set(Data_Facebook['EDUCATION'])"
      ],
      "metadata": {
        "colab": {
          "base_uri": "https://localhost:8080/"
        },
        "id": "IU4uRo0PAi2H",
        "outputId": "b2d2ec8f-3abd-4294-84ba-5db4ab84bc91"
      },
      "id": "IU4uRo0PAi2H",
      "execution_count": 252,
      "outputs": [
        {
          "output_type": "execute_result",
          "data": {
            "text/plain": [
              "{'ต่ำกว่ามัธยมปลาย', 'ปริญญาตรี', 'มัธยมปลายหรือเทียบเท่า', 'สูงกว่าปริญญาตรี'}"
            ]
          },
          "metadata": {},
          "execution_count": 252
        }
      ]
    },
    {
      "cell_type": "code",
      "source": [
        "Data_Facebook.loc[Data_Facebook['EDUCATION'] == \"ต่ำกว่ามัธยมปลาย\", 'EDUCATION'] = \"Lower than high school\"\n",
        "Data_Facebook.loc[Data_Facebook['EDUCATION'] == \"ปริญญาตรี\", 'EDUCATION'] = \"Bachelor\"\n",
        "Data_Facebook.loc[Data_Facebook['EDUCATION'] == \"มัธยมปลายหรือเทียบเท่า\", 'EDUCATION'] = \"High school or equivalent\"\n",
        "Data_Facebook.loc[Data_Facebook['EDUCATION'] == \"สูงกว่าปริญญาตรี\", 'EDUCATION'] = \"Postgraduate\"\n"
      ],
      "metadata": {
        "id": "mX6fSfigAx_j"
      },
      "id": "mX6fSfigAx_j",
      "execution_count": 253,
      "outputs": []
    },
    {
      "cell_type": "code",
      "execution_count": 265,
      "id": "15834154",
      "metadata": {
        "id": "15834154",
        "colab": {
          "base_uri": "https://localhost:8080/",
          "height": 449
        },
        "outputId": "87511ea7-d943-49bb-9000-dd70aacb1862"
      },
      "outputs": [
        {
          "output_type": "display_data",
          "data": {
            "text/plain": [
              "<Figure size 640x480 with 1 Axes>"
            ],
            "image/png": "[encoded data removed]"
          },
          "metadata": {}
        }
      ],
      "source": [
        "#การศึกษาสำคัญกับเงินเดือนหรือไม่ จะเห็นว่าสำคัญเพราะว่าจบสูงมากเท่าไรเงินเดือนมากเท่านั้น\n",
        "Data_Facebook.rename(columns={'EDUCATION ': 'EDUCATION'}, inplace=True)\n",
        "income_summary = Data_Facebook.groupby('EDUCATION')['SALARY'].mean().reset_index()\n",
        "\n",
        "mycolorr = [\"LightGray\", \"LightGray\",\"LightGray\", \"#FF3399\"]\n",
        "plt.barh(income_summary['EDUCATION'], income_summary['SALARY'],color=mycolorr)\n",
        "plt.xlabel('Average SALARY')\n",
        "plt.ylabel('EDUCATION')\n",
        "plt.show()\n"
      ]
    },
    {
      "cell_type": "code",
      "execution_count": 267,
      "id": "35b83053",
      "metadata": {
        "id": "35b83053",
        "colab": {
          "base_uri": "https://localhost:8080/",
          "height": 449
        },
        "outputId": "ff9a2964-0e53-43e8-dc56-113aad046314"
      },
      "outputs": [
        {
          "output_type": "display_data",
          "data": {
            "text/plain": [
              "<Figure size 640x480 with 1 Axes>"
            ],
            "image/png": "[encoded data removed]"
          },
          "metadata": {}
        }
      ],
      "source": [
        "#มีค่าใช้จ่ายอินเตอร์เน็ตไม่แตกต่างกันมากนัก\n",
        "Data_Facebook.rename(columns={'EDUCATION ': 'EDUCATION'}, inplace=True)\n",
        "income_summary = Data_Facebook.groupby('EDUCATION')['INTERNET_PAY'].mean().reset_index()\n",
        "\n",
        "mycolorsr = [\"LightGray\", \"#FF6600\",\"LightGray\", \"LightGray\"]\n",
        "plt.barh(income_summary['EDUCATION'], income_summary['INTERNET_PAY'],color=mycolorsr)\n",
        "plt.xlabel('INTERNET_PAY')\n",
        "plt.ylabel('EDUCATION')\n",
        "plt.show()\n"
      ]
    }
  ],
  "metadata": {
    "kernelspec": {
      "display_name": "Python 3 (ipykernel)",
      "language": "python",
      "name": "python3"
    },
    "language_info": {
      "codemirror_mode": {
        "name": "ipython",
        "version": 3
      },
      "file_extension": ".py",
      "mimetype": "text/x-python",
      "name": "python",
      "nbconvert_exporter": "python",
      "pygments_lexer": "ipython3",
      "version": "3.8.8"
    },
    "colab": {
      "provenance": [],
      "include_colab_link": true
    }
  },
  "nbformat": 4,
  "nbformat_minor": 5
}